{
 "cells": [
  {
   "cell_type": "markdown",
   "metadata": {},
   "source": [
    "This notebook analyzes a sample of the dataset to get a rough idea about the range of ratings, genres, and movie titles."
   ]
  },
  {
   "cell_type": "code",
   "execution_count": 1,
   "metadata": {
    "ExecuteTime": {
     "end_time": "2020-05-14T08:03:07.542514Z",
     "start_time": "2020-05-14T08:03:07.248345Z"
    }
   },
   "outputs": [],
   "source": [
    "import numpy as np\n",
    "import pandas as pd\n",
    "import random\n",
    "import matplotlib.pyplot as plt\n",
    "\n",
    "import re"
   ]
  },
  {
   "cell_type": "markdown",
   "metadata": {},
   "source": [
    "### Load datasets"
   ]
  },
  {
   "cell_type": "code",
   "execution_count": 2,
   "metadata": {
    "ExecuteTime": {
     "end_time": "2020-05-14T08:03:08.960574Z",
     "start_time": "2020-05-14T08:03:08.942810Z"
    }
   },
   "outputs": [],
   "source": [
    "def load_movies_dataset(sample_size = 40000, random_sample=True):\n",
    "    \n",
    "    '''\n",
    "    Note: this function opens the whole csv to get the total number of rows \n",
    "    --> for large csv files opening via shell to get the number of rows is much faster and does not require to load the file into memory\n",
    "    \n",
    "    Note: By sampling the movies dataset not all user ratings might match with the given movieIDs      \n",
    "    '''\n",
    "    \n",
    "    path = '/media/vincent/harddrive/Movielens_data/ml-25m/'\n",
    "    \n",
    "    if random_sample == True:\n",
    "        random.seed(30) \n",
    "\n",
    "        n_rows = sum(1 for line in open(path + 'movies.csv')) - 1 #number of records in file (excludes header)\n",
    "        skip = sorted(random.sample(range(1,n_rows+1),n_rows-sample_size)) #the 0-indexed header will not be included in the skip list\n",
    "\n",
    "        movie_data = pd.read_csv(\n",
    "            path + 'movies.csv',\n",
    "            encoding = \"ISO-8859-1\", \n",
    "            skiprows = skip,\n",
    "            header=0\n",
    "        )\n",
    "        \n",
    "    else:\n",
    "        movie_data = pd.read_csv(\n",
    "            path + 'movies.csv',\n",
    "            encoding = \"ISO-8859-1\", \n",
    "            nrows = sample_size,\n",
    "            header=0\n",
    "        )\n",
    "    \n",
    "    movie_data['movie_title'] = movie_data['title']\n",
    "    \n",
    "    return movie_data[['movieId','movie_title','genres']]\n",
    "\n",
    "\n",
    "def load_ratings(sample_size = 20000, random_sample=True):\n",
    "    \n",
    "    '''\n",
    "    Note: this function opens the whole csv to get the total number of rows \n",
    "    --> for large csv files opening via shell to get the number of rows is much faster and does not require to load the file into memory\n",
    "    '''\n",
    "        \n",
    "    path = '/media/vincent/harddrive/Movielens_data/ml-25m/'\n",
    "    \n",
    "    if random_sample == True:\n",
    "        random.seed(30)\n",
    "\n",
    "        n_rows = sum(1 for line in open(path + 'ratings.csv')) - 1 #number of records in file (excludes header)\n",
    "        skip = sorted(random.sample(range(1,n_rows+1),n_rows-sample_size)) #the 0-indexed header will not be included in the skip list\n",
    "\n",
    "\n",
    "        ratings_data = pd.read_csv(\n",
    "            path + 'ratings.csv',\n",
    "            encoding = \"ISO-8859-1\",\n",
    "            skiprows = skip,\n",
    "            header=0\n",
    "        )\n",
    "\n",
    "    else:    \n",
    "        ratings_data = pd.read_csv(\n",
    "            path + 'ratings.csv',\n",
    "            encoding = \"ISO-8859-1\",\n",
    "            nrows = sample_size,\n",
    "            header=0\n",
    "        )\n",
    "\n",
    "    return ratings_data\n",
    "\n",
    "\n",
    "def load_ratings_with_titles():\n",
    "    ratings_data = load_ratings()\n",
    "    movies_data = load_movies_dataset()\n",
    "    ratings_data['userId'] = ratings_data['userId'].map(lambda k: f\"User_{k}\")\n",
    "        \n",
    "    ratings_and_movies = pd.merge(ratings_data , movies_data[['movie_title','movieId']], on='movieId', how='left')\n",
    "        \n",
    "    return ratings_and_movies[['userId', 'movie_title', 'rating']], ratings_data, movies_data"
   ]
  },
  {
   "cell_type": "code",
   "execution_count": 3,
   "metadata": {
    "ExecuteTime": {
     "end_time": "2020-05-14T08:04:07.871297Z",
     "start_time": "2020-05-14T08:03:11.021072Z"
    }
   },
   "outputs": [],
   "source": [
    "#load data\n",
    "movie_ratings_df, ratings_data, movies_data = load_ratings_with_titles()"
   ]
  },
  {
   "cell_type": "code",
   "execution_count": 4,
   "metadata": {
    "ExecuteTime": {
     "end_time": "2020-05-14T08:04:07.916065Z",
     "start_time": "2020-05-14T08:04:07.905813Z"
    }
   },
   "outputs": [
    {
     "data": {
      "text/html": [
       "<div>\n",
       "<style scoped>\n",
       "    .dataframe tbody tr th:only-of-type {\n",
       "        vertical-align: middle;\n",
       "    }\n",
       "\n",
       "    .dataframe tbody tr th {\n",
       "        vertical-align: top;\n",
       "    }\n",
       "\n",
       "    .dataframe thead th {\n",
       "        text-align: right;\n",
       "    }\n",
       "</style>\n",
       "<table border=\"1\" class=\"dataframe\">\n",
       "  <thead>\n",
       "    <tr style=\"text-align: right;\">\n",
       "      <th></th>\n",
       "      <th>userId</th>\n",
       "      <th>movieId</th>\n",
       "      <th>rating</th>\n",
       "      <th>timestamp</th>\n",
       "    </tr>\n",
       "  </thead>\n",
       "  <tbody>\n",
       "    <tr>\n",
       "      <th>0</th>\n",
       "      <td>User_3</td>\n",
       "      <td>87430</td>\n",
       "      <td>3.0</td>\n",
       "      <td>1484755925</td>\n",
       "    </tr>\n",
       "    <tr>\n",
       "      <th>1</th>\n",
       "      <td>User_13</td>\n",
       "      <td>78266</td>\n",
       "      <td>1.0</td>\n",
       "      <td>1297907375</td>\n",
       "    </tr>\n",
       "    <tr>\n",
       "      <th>2</th>\n",
       "      <td>User_43</td>\n",
       "      <td>4246</td>\n",
       "      <td>3.5</td>\n",
       "      <td>1170494217</td>\n",
       "    </tr>\n",
       "    <tr>\n",
       "      <th>3</th>\n",
       "      <td>User_52</td>\n",
       "      <td>3617</td>\n",
       "      <td>2.5</td>\n",
       "      <td>1298355356</td>\n",
       "    </tr>\n",
       "    <tr>\n",
       "      <th>4</th>\n",
       "      <td>User_59</td>\n",
       "      <td>1754</td>\n",
       "      <td>3.5</td>\n",
       "      <td>1111567463</td>\n",
       "    </tr>\n",
       "  </tbody>\n",
       "</table>\n",
       "</div>"
      ],
      "text/plain": [
       "    userId  movieId  rating   timestamp\n",
       "0   User_3    87430     3.0  1484755925\n",
       "1  User_13    78266     1.0  1297907375\n",
       "2  User_43     4246     3.5  1170494217\n",
       "3  User_52     3617     2.5  1298355356\n",
       "4  User_59     1754     3.5  1111567463"
      ]
     },
     "execution_count": 4,
     "metadata": {},
     "output_type": "execute_result"
    }
   ],
   "source": [
    "ratings_data.head()"
   ]
  },
  {
   "cell_type": "code",
   "execution_count": 5,
   "metadata": {
    "ExecuteTime": {
     "end_time": "2020-05-14T08:04:07.961150Z",
     "start_time": "2020-05-14T08:04:07.952104Z"
    }
   },
   "outputs": [
    {
     "data": {
      "text/html": [
       "<div>\n",
       "<style scoped>\n",
       "    .dataframe tbody tr th:only-of-type {\n",
       "        vertical-align: middle;\n",
       "    }\n",
       "\n",
       "    .dataframe tbody tr th {\n",
       "        vertical-align: top;\n",
       "    }\n",
       "\n",
       "    .dataframe thead th {\n",
       "        text-align: right;\n",
       "    }\n",
       "</style>\n",
       "<table border=\"1\" class=\"dataframe\">\n",
       "  <thead>\n",
       "    <tr style=\"text-align: right;\">\n",
       "      <th></th>\n",
       "      <th>movieId</th>\n",
       "      <th>movie_title</th>\n",
       "      <th>genres</th>\n",
       "    </tr>\n",
       "  </thead>\n",
       "  <tbody>\n",
       "    <tr>\n",
       "      <th>0</th>\n",
       "      <td>3</td>\n",
       "      <td>Grumpier Old Men (1995)</td>\n",
       "      <td>Comedy|Romance</td>\n",
       "    </tr>\n",
       "    <tr>\n",
       "      <th>1</th>\n",
       "      <td>5</td>\n",
       "      <td>Father of the Bride Part II (1995)</td>\n",
       "      <td>Comedy</td>\n",
       "    </tr>\n",
       "    <tr>\n",
       "      <th>2</th>\n",
       "      <td>7</td>\n",
       "      <td>Sabrina (1995)</td>\n",
       "      <td>Comedy|Romance</td>\n",
       "    </tr>\n",
       "    <tr>\n",
       "      <th>3</th>\n",
       "      <td>10</td>\n",
       "      <td>GoldenEye (1995)</td>\n",
       "      <td>Action|Adventure|Thriller</td>\n",
       "    </tr>\n",
       "    <tr>\n",
       "      <th>4</th>\n",
       "      <td>11</td>\n",
       "      <td>American President, The (1995)</td>\n",
       "      <td>Comedy|Drama|Romance</td>\n",
       "    </tr>\n",
       "  </tbody>\n",
       "</table>\n",
       "</div>"
      ],
      "text/plain": [
       "   movieId                         movie_title                     genres\n",
       "0        3             Grumpier Old Men (1995)             Comedy|Romance\n",
       "1        5  Father of the Bride Part II (1995)                     Comedy\n",
       "2        7                      Sabrina (1995)             Comedy|Romance\n",
       "3       10                    GoldenEye (1995)  Action|Adventure|Thriller\n",
       "4       11      American President, The (1995)       Comedy|Drama|Romance"
      ]
     },
     "execution_count": 5,
     "metadata": {},
     "output_type": "execute_result"
    }
   ],
   "source": [
    "movies_data.head()"
   ]
  },
  {
   "cell_type": "code",
   "execution_count": 6,
   "metadata": {
    "ExecuteTime": {
     "end_time": "2020-05-14T08:04:08.013556Z",
     "start_time": "2020-05-14T08:04:08.003225Z"
    }
   },
   "outputs": [
    {
     "data": {
      "text/html": [
       "<div>\n",
       "<style scoped>\n",
       "    .dataframe tbody tr th:only-of-type {\n",
       "        vertical-align: middle;\n",
       "    }\n",
       "\n",
       "    .dataframe tbody tr th {\n",
       "        vertical-align: top;\n",
       "    }\n",
       "\n",
       "    .dataframe thead th {\n",
       "        text-align: right;\n",
       "    }\n",
       "</style>\n",
       "<table border=\"1\" class=\"dataframe\">\n",
       "  <thead>\n",
       "    <tr style=\"text-align: right;\">\n",
       "      <th></th>\n",
       "      <th>userId</th>\n",
       "      <th>movie_title</th>\n",
       "      <th>rating</th>\n",
       "    </tr>\n",
       "  </thead>\n",
       "  <tbody>\n",
       "    <tr>\n",
       "      <th>0</th>\n",
       "      <td>User_3</td>\n",
       "      <td>Green Lantern (2011)</td>\n",
       "      <td>3.0</td>\n",
       "    </tr>\n",
       "    <tr>\n",
       "      <th>1</th>\n",
       "      <td>User_13</td>\n",
       "      <td>Splice (2009)</td>\n",
       "      <td>1.0</td>\n",
       "    </tr>\n",
       "    <tr>\n",
       "      <th>2</th>\n",
       "      <td>User_43</td>\n",
       "      <td>NaN</td>\n",
       "      <td>3.5</td>\n",
       "    </tr>\n",
       "    <tr>\n",
       "      <th>3</th>\n",
       "      <td>User_52</td>\n",
       "      <td>NaN</td>\n",
       "      <td>2.5</td>\n",
       "    </tr>\n",
       "    <tr>\n",
       "      <th>4</th>\n",
       "      <td>User_59</td>\n",
       "      <td>Fallen (1998)</td>\n",
       "      <td>3.5</td>\n",
       "    </tr>\n",
       "  </tbody>\n",
       "</table>\n",
       "</div>"
      ],
      "text/plain": [
       "    userId           movie_title  rating\n",
       "0   User_3  Green Lantern (2011)     3.0\n",
       "1  User_13         Splice (2009)     1.0\n",
       "2  User_43                   NaN     3.5\n",
       "3  User_52                   NaN     2.5\n",
       "4  User_59         Fallen (1998)     3.5"
      ]
     },
     "execution_count": 6,
     "metadata": {},
     "output_type": "execute_result"
    }
   ],
   "source": [
    "movie_ratings_df.head()"
   ]
  },
  {
   "cell_type": "markdown",
   "metadata": {},
   "source": [
    "### check for missings"
   ]
  },
  {
   "cell_type": "markdown",
   "metadata": {},
   "source": [
    "By sampling the movies dataset not all user ratings might match with the given movieIDs"
   ]
  },
  {
   "cell_type": "code",
   "execution_count": 7,
   "metadata": {
    "ExecuteTime": {
     "end_time": "2020-05-14T08:04:08.065686Z",
     "start_time": "2020-05-14T08:04:08.050096Z"
    }
   },
   "outputs": [
    {
     "data": {
      "text/html": [
       "<div>\n",
       "<style scoped>\n",
       "    .dataframe tbody tr th:only-of-type {\n",
       "        vertical-align: middle;\n",
       "    }\n",
       "\n",
       "    .dataframe tbody tr th {\n",
       "        vertical-align: top;\n",
       "    }\n",
       "\n",
       "    .dataframe thead th {\n",
       "        text-align: right;\n",
       "    }\n",
       "</style>\n",
       "<table border=\"1\" class=\"dataframe\">\n",
       "  <thead>\n",
       "    <tr style=\"text-align: right;\">\n",
       "      <th></th>\n",
       "      <th>userId</th>\n",
       "      <th>movie_title</th>\n",
       "      <th>rating</th>\n",
       "    </tr>\n",
       "  </thead>\n",
       "  <tbody>\n",
       "    <tr>\n",
       "      <th>2</th>\n",
       "      <td>User_43</td>\n",
       "      <td>NaN</td>\n",
       "      <td>3.5</td>\n",
       "    </tr>\n",
       "    <tr>\n",
       "      <th>3</th>\n",
       "      <td>User_52</td>\n",
       "      <td>NaN</td>\n",
       "      <td>2.5</td>\n",
       "    </tr>\n",
       "    <tr>\n",
       "      <th>5</th>\n",
       "      <td>User_59</td>\n",
       "      <td>NaN</td>\n",
       "      <td>3.5</td>\n",
       "    </tr>\n",
       "    <tr>\n",
       "      <th>7</th>\n",
       "      <td>User_75</td>\n",
       "      <td>NaN</td>\n",
       "      <td>3.0</td>\n",
       "    </tr>\n",
       "    <tr>\n",
       "      <th>10</th>\n",
       "      <td>User_127</td>\n",
       "      <td>NaN</td>\n",
       "      <td>3.5</td>\n",
       "    </tr>\n",
       "  </tbody>\n",
       "</table>\n",
       "</div>"
      ],
      "text/plain": [
       "      userId movie_title  rating\n",
       "2    User_43         NaN     3.5\n",
       "3    User_52         NaN     2.5\n",
       "5    User_59         NaN     3.5\n",
       "7    User_75         NaN     3.0\n",
       "10  User_127         NaN     3.5"
      ]
     },
     "execution_count": 7,
     "metadata": {},
     "output_type": "execute_result"
    }
   ],
   "source": [
    "movie_ratings_df[movie_ratings_df['movie_title'].isna()].head()"
   ]
  },
  {
   "cell_type": "code",
   "execution_count": 8,
   "metadata": {
    "ExecuteTime": {
     "end_time": "2020-05-14T08:04:08.103961Z",
     "start_time": "2020-05-14T08:04:08.097542Z"
    }
   },
   "outputs": [
    {
     "data": {
      "text/plain": [
       "(7746, 3)"
      ]
     },
     "execution_count": 8,
     "metadata": {},
     "output_type": "execute_result"
    }
   ],
   "source": [
    "movie_ratings_df[movie_ratings_df['movie_title'].isna()].shape"
   ]
  },
  {
   "cell_type": "code",
   "execution_count": 9,
   "metadata": {
    "ExecuteTime": {
     "end_time": "2020-05-14T08:04:16.299043Z",
     "start_time": "2020-05-14T08:04:16.289266Z"
    }
   },
   "outputs": [
    {
     "data": {
      "text/plain": [
       "(12254, 3)"
      ]
     },
     "execution_count": 9,
     "metadata": {},
     "output_type": "execute_result"
    }
   ],
   "source": [
    "#drop NAs\n",
    "movie_ratings_df.dropna(inplace=True)\n",
    "movie_ratings_df.shape"
   ]
  },
  {
   "cell_type": "markdown",
   "metadata": {},
   "source": [
    "### analyze genres"
   ]
  },
  {
   "cell_type": "markdown",
   "metadata": {},
   "source": [
    "#### get unique genres"
   ]
  },
  {
   "cell_type": "code",
   "execution_count": 10,
   "metadata": {
    "ExecuteTime": {
     "end_time": "2020-05-14T08:04:22.768477Z",
     "start_time": "2020-05-14T08:04:22.629606Z"
    }
   },
   "outputs": [
    {
     "data": {
      "text/html": [
       "<div>\n",
       "<style scoped>\n",
       "    .dataframe tbody tr th:only-of-type {\n",
       "        vertical-align: middle;\n",
       "    }\n",
       "\n",
       "    .dataframe tbody tr th {\n",
       "        vertical-align: top;\n",
       "    }\n",
       "\n",
       "    .dataframe thead th {\n",
       "        text-align: right;\n",
       "    }\n",
       "</style>\n",
       "<table border=\"1\" class=\"dataframe\">\n",
       "  <thead>\n",
       "    <tr style=\"text-align: right;\">\n",
       "      <th></th>\n",
       "      <th>0</th>\n",
       "      <th>1</th>\n",
       "      <th>2</th>\n",
       "      <th>3</th>\n",
       "      <th>4</th>\n",
       "      <th>5</th>\n",
       "      <th>6</th>\n",
       "      <th>7</th>\n",
       "      <th>8</th>\n",
       "      <th>9</th>\n",
       "    </tr>\n",
       "  </thead>\n",
       "  <tbody>\n",
       "    <tr>\n",
       "      <th>0</th>\n",
       "      <td>Comedy</td>\n",
       "      <td>Romance</td>\n",
       "      <td>None</td>\n",
       "      <td>None</td>\n",
       "      <td>None</td>\n",
       "      <td>None</td>\n",
       "      <td>None</td>\n",
       "      <td>None</td>\n",
       "      <td>None</td>\n",
       "      <td>None</td>\n",
       "    </tr>\n",
       "    <tr>\n",
       "      <th>1</th>\n",
       "      <td>Comedy</td>\n",
       "      <td>None</td>\n",
       "      <td>None</td>\n",
       "      <td>None</td>\n",
       "      <td>None</td>\n",
       "      <td>None</td>\n",
       "      <td>None</td>\n",
       "      <td>None</td>\n",
       "      <td>None</td>\n",
       "      <td>None</td>\n",
       "    </tr>\n",
       "    <tr>\n",
       "      <th>2</th>\n",
       "      <td>Comedy</td>\n",
       "      <td>Romance</td>\n",
       "      <td>None</td>\n",
       "      <td>None</td>\n",
       "      <td>None</td>\n",
       "      <td>None</td>\n",
       "      <td>None</td>\n",
       "      <td>None</td>\n",
       "      <td>None</td>\n",
       "      <td>None</td>\n",
       "    </tr>\n",
       "    <tr>\n",
       "      <th>3</th>\n",
       "      <td>Action</td>\n",
       "      <td>Adventure</td>\n",
       "      <td>Thriller</td>\n",
       "      <td>None</td>\n",
       "      <td>None</td>\n",
       "      <td>None</td>\n",
       "      <td>None</td>\n",
       "      <td>None</td>\n",
       "      <td>None</td>\n",
       "      <td>None</td>\n",
       "    </tr>\n",
       "    <tr>\n",
       "      <th>4</th>\n",
       "      <td>Comedy</td>\n",
       "      <td>Drama</td>\n",
       "      <td>Romance</td>\n",
       "      <td>None</td>\n",
       "      <td>None</td>\n",
       "      <td>None</td>\n",
       "      <td>None</td>\n",
       "      <td>None</td>\n",
       "      <td>None</td>\n",
       "      <td>None</td>\n",
       "    </tr>\n",
       "  </tbody>\n",
       "</table>\n",
       "</div>"
      ],
      "text/plain": [
       "        0          1         2     3     4     5     6     7     8     9\n",
       "0  Comedy    Romance      None  None  None  None  None  None  None  None\n",
       "1  Comedy       None      None  None  None  None  None  None  None  None\n",
       "2  Comedy    Romance      None  None  None  None  None  None  None  None\n",
       "3  Action  Adventure  Thriller  None  None  None  None  None  None  None\n",
       "4  Comedy      Drama   Romance  None  None  None  None  None  None  None"
      ]
     },
     "execution_count": 10,
     "metadata": {},
     "output_type": "execute_result"
    }
   ],
   "source": [
    "genre_help_df = movies_data['genres'].str.split('|', expand = True)\n",
    "genre_help_df.head()"
   ]
  },
  {
   "cell_type": "code",
   "execution_count": 11,
   "metadata": {
    "ExecuteTime": {
     "end_time": "2020-05-14T08:04:23.879859Z",
     "start_time": "2020-05-14T08:04:23.864117Z"
    }
   },
   "outputs": [
    {
     "data": {
      "text/html": [
       "<div>\n",
       "<style scoped>\n",
       "    .dataframe tbody tr th:only-of-type {\n",
       "        vertical-align: middle;\n",
       "    }\n",
       "\n",
       "    .dataframe tbody tr th {\n",
       "        vertical-align: top;\n",
       "    }\n",
       "\n",
       "    .dataframe thead th {\n",
       "        text-align: right;\n",
       "    }\n",
       "</style>\n",
       "<table border=\"1\" class=\"dataframe\">\n",
       "  <thead>\n",
       "    <tr style=\"text-align: right;\">\n",
       "      <th></th>\n",
       "      <th>0</th>\n",
       "      <th>1</th>\n",
       "      <th>2</th>\n",
       "      <th>3</th>\n",
       "      <th>4</th>\n",
       "      <th>5</th>\n",
       "      <th>6</th>\n",
       "      <th>7</th>\n",
       "      <th>8</th>\n",
       "      <th>9</th>\n",
       "    </tr>\n",
       "  </thead>\n",
       "  <tbody>\n",
       "    <tr>\n",
       "      <th>9824</th>\n",
       "      <td>Action</td>\n",
       "      <td>Adventure</td>\n",
       "      <td>Comedy</td>\n",
       "      <td>Crime</td>\n",
       "      <td>Drama</td>\n",
       "      <td>Film-Noir</td>\n",
       "      <td>Horror</td>\n",
       "      <td>Mystery</td>\n",
       "      <td>Thriller</td>\n",
       "      <td>Western</td>\n",
       "    </tr>\n",
       "  </tbody>\n",
       "</table>\n",
       "</div>"
      ],
      "text/plain": [
       "           0          1       2      3      4          5       6        7  \\\n",
       "9824  Action  Adventure  Comedy  Crime  Drama  Film-Noir  Horror  Mystery   \n",
       "\n",
       "             8        9  \n",
       "9824  Thriller  Western  "
      ]
     },
     "execution_count": 11,
     "metadata": {},
     "output_type": "execute_result"
    }
   ],
   "source": [
    "genre_help_df[genre_help_df[genre_help_df.shape[1]-1].notnull()]"
   ]
  },
  {
   "cell_type": "code",
   "execution_count": 12,
   "metadata": {
    "ExecuteTime": {
     "end_time": "2020-05-14T08:04:25.012925Z",
     "start_time": "2020-05-14T08:04:24.987325Z"
    }
   },
   "outputs": [
    {
     "name": "stdout",
     "output_type": "stream",
     "text": [
      "['(no genres listed)', 'Fantasy', 'Crime', 'Thriller', 'Film-Noir', 'Romance', 'Comedy', 'Sci-Fi', 'Animation', 'Drama', 'Children', 'Documentary', 'Musical', 'IMAX', 'Action', 'Adventure', 'Mystery', None, 'War', 'Horror', 'Western']\n"
     ]
    }
   ],
   "source": [
    "#get all unique genres:\n",
    "for i in range(genre_help_df.shape[1]):\n",
    "    if i < 1:\n",
    "        set_init = set(genre_help_df[i].unique())\n",
    "        continue\n",
    "    else:\n",
    "        set_help = set(genre_help_df[i].unique())\n",
    "        \n",
    "    set_all = set_init.union(set_help)\n",
    "    \n",
    "    set_init = set_all\n",
    " \n",
    "\n",
    "#list of unique genres:\n",
    "uniq_genres = list(set_all)\n",
    "print(uniq_genres)\n",
    "\n",
    "#delete \"None\" entry:\n",
    "del_idx = uniq_genres.index(None)\n",
    "del uniq_genres[del_idx]\n"
   ]
  },
  {
   "cell_type": "markdown",
   "metadata": {},
   "source": [
    "#### add genre columns"
   ]
  },
  {
   "cell_type": "code",
   "execution_count": 13,
   "metadata": {
    "ExecuteTime": {
     "end_time": "2020-05-14T08:04:30.991181Z",
     "start_time": "2020-05-14T08:04:30.575932Z"
    }
   },
   "outputs": [
    {
     "name": "stderr",
     "output_type": "stream",
     "text": [
      "/home/vincent/anaconda3/envs/datascience/lib/python3.6/site-packages/pandas/core/strings.py:1954: UserWarning: This pattern has match groups. To actually get the groups, use str.extract.\n",
      "  return func(self, *args, **kwargs)\n"
     ]
    },
    {
     "data": {
      "text/html": [
       "<div>\n",
       "<style scoped>\n",
       "    .dataframe tbody tr th:only-of-type {\n",
       "        vertical-align: middle;\n",
       "    }\n",
       "\n",
       "    .dataframe tbody tr th {\n",
       "        vertical-align: top;\n",
       "    }\n",
       "\n",
       "    .dataframe thead th {\n",
       "        text-align: right;\n",
       "    }\n",
       "</style>\n",
       "<table border=\"1\" class=\"dataframe\">\n",
       "  <thead>\n",
       "    <tr style=\"text-align: right;\">\n",
       "      <th></th>\n",
       "      <th>movieId</th>\n",
       "      <th>movie_title</th>\n",
       "      <th>genres</th>\n",
       "      <th>(no genres listed)</th>\n",
       "      <th>Fantasy</th>\n",
       "      <th>Crime</th>\n",
       "      <th>Thriller</th>\n",
       "      <th>Film-Noir</th>\n",
       "      <th>Romance</th>\n",
       "      <th>Comedy</th>\n",
       "      <th>...</th>\n",
       "      <th>Children</th>\n",
       "      <th>Documentary</th>\n",
       "      <th>Musical</th>\n",
       "      <th>IMAX</th>\n",
       "      <th>Action</th>\n",
       "      <th>Adventure</th>\n",
       "      <th>Mystery</th>\n",
       "      <th>War</th>\n",
       "      <th>Horror</th>\n",
       "      <th>Western</th>\n",
       "    </tr>\n",
       "  </thead>\n",
       "  <tbody>\n",
       "    <tr>\n",
       "      <th>0</th>\n",
       "      <td>3</td>\n",
       "      <td>Grumpier Old Men (1995)</td>\n",
       "      <td>Comedy|Romance</td>\n",
       "      <td>0.0</td>\n",
       "      <td>0.0</td>\n",
       "      <td>0.0</td>\n",
       "      <td>0.0</td>\n",
       "      <td>0.0</td>\n",
       "      <td>1.0</td>\n",
       "      <td>1.0</td>\n",
       "      <td>...</td>\n",
       "      <td>0.0</td>\n",
       "      <td>0.0</td>\n",
       "      <td>0.0</td>\n",
       "      <td>0.0</td>\n",
       "      <td>0.0</td>\n",
       "      <td>0.0</td>\n",
       "      <td>0.0</td>\n",
       "      <td>0.0</td>\n",
       "      <td>0.0</td>\n",
       "      <td>0.0</td>\n",
       "    </tr>\n",
       "    <tr>\n",
       "      <th>1</th>\n",
       "      <td>5</td>\n",
       "      <td>Father of the Bride Part II (1995)</td>\n",
       "      <td>Comedy</td>\n",
       "      <td>0.0</td>\n",
       "      <td>0.0</td>\n",
       "      <td>0.0</td>\n",
       "      <td>0.0</td>\n",
       "      <td>0.0</td>\n",
       "      <td>0.0</td>\n",
       "      <td>1.0</td>\n",
       "      <td>...</td>\n",
       "      <td>0.0</td>\n",
       "      <td>0.0</td>\n",
       "      <td>0.0</td>\n",
       "      <td>0.0</td>\n",
       "      <td>0.0</td>\n",
       "      <td>0.0</td>\n",
       "      <td>0.0</td>\n",
       "      <td>0.0</td>\n",
       "      <td>0.0</td>\n",
       "      <td>0.0</td>\n",
       "    </tr>\n",
       "    <tr>\n",
       "      <th>2</th>\n",
       "      <td>7</td>\n",
       "      <td>Sabrina (1995)</td>\n",
       "      <td>Comedy|Romance</td>\n",
       "      <td>0.0</td>\n",
       "      <td>0.0</td>\n",
       "      <td>0.0</td>\n",
       "      <td>0.0</td>\n",
       "      <td>0.0</td>\n",
       "      <td>1.0</td>\n",
       "      <td>1.0</td>\n",
       "      <td>...</td>\n",
       "      <td>0.0</td>\n",
       "      <td>0.0</td>\n",
       "      <td>0.0</td>\n",
       "      <td>0.0</td>\n",
       "      <td>0.0</td>\n",
       "      <td>0.0</td>\n",
       "      <td>0.0</td>\n",
       "      <td>0.0</td>\n",
       "      <td>0.0</td>\n",
       "      <td>0.0</td>\n",
       "    </tr>\n",
       "    <tr>\n",
       "      <th>3</th>\n",
       "      <td>10</td>\n",
       "      <td>GoldenEye (1995)</td>\n",
       "      <td>Action|Adventure|Thriller</td>\n",
       "      <td>0.0</td>\n",
       "      <td>0.0</td>\n",
       "      <td>0.0</td>\n",
       "      <td>1.0</td>\n",
       "      <td>0.0</td>\n",
       "      <td>0.0</td>\n",
       "      <td>0.0</td>\n",
       "      <td>...</td>\n",
       "      <td>0.0</td>\n",
       "      <td>0.0</td>\n",
       "      <td>0.0</td>\n",
       "      <td>0.0</td>\n",
       "      <td>1.0</td>\n",
       "      <td>1.0</td>\n",
       "      <td>0.0</td>\n",
       "      <td>0.0</td>\n",
       "      <td>0.0</td>\n",
       "      <td>0.0</td>\n",
       "    </tr>\n",
       "    <tr>\n",
       "      <th>4</th>\n",
       "      <td>11</td>\n",
       "      <td>American President, The (1995)</td>\n",
       "      <td>Comedy|Drama|Romance</td>\n",
       "      <td>0.0</td>\n",
       "      <td>0.0</td>\n",
       "      <td>0.0</td>\n",
       "      <td>0.0</td>\n",
       "      <td>0.0</td>\n",
       "      <td>1.0</td>\n",
       "      <td>1.0</td>\n",
       "      <td>...</td>\n",
       "      <td>0.0</td>\n",
       "      <td>0.0</td>\n",
       "      <td>0.0</td>\n",
       "      <td>0.0</td>\n",
       "      <td>0.0</td>\n",
       "      <td>0.0</td>\n",
       "      <td>0.0</td>\n",
       "      <td>0.0</td>\n",
       "      <td>0.0</td>\n",
       "      <td>0.0</td>\n",
       "    </tr>\n",
       "  </tbody>\n",
       "</table>\n",
       "<p>5 rows × 23 columns</p>\n",
       "</div>"
      ],
      "text/plain": [
       "   movieId                         movie_title                     genres  \\\n",
       "0        3             Grumpier Old Men (1995)             Comedy|Romance   \n",
       "1        5  Father of the Bride Part II (1995)                     Comedy   \n",
       "2        7                      Sabrina (1995)             Comedy|Romance   \n",
       "3       10                    GoldenEye (1995)  Action|Adventure|Thriller   \n",
       "4       11      American President, The (1995)       Comedy|Drama|Romance   \n",
       "\n",
       "   (no genres listed)  Fantasy  Crime  Thriller  Film-Noir  Romance  Comedy  \\\n",
       "0                 0.0      0.0    0.0       0.0        0.0      1.0     1.0   \n",
       "1                 0.0      0.0    0.0       0.0        0.0      0.0     1.0   \n",
       "2                 0.0      0.0    0.0       0.0        0.0      1.0     1.0   \n",
       "3                 0.0      0.0    0.0       1.0        0.0      0.0     0.0   \n",
       "4                 0.0      0.0    0.0       0.0        0.0      1.0     1.0   \n",
       "\n",
       "   ...  Children  Documentary  Musical  IMAX  Action  Adventure  Mystery  War  \\\n",
       "0  ...       0.0          0.0      0.0   0.0     0.0        0.0      0.0  0.0   \n",
       "1  ...       0.0          0.0      0.0   0.0     0.0        0.0      0.0  0.0   \n",
       "2  ...       0.0          0.0      0.0   0.0     0.0        0.0      0.0  0.0   \n",
       "3  ...       0.0          0.0      0.0   0.0     1.0        1.0      0.0  0.0   \n",
       "4  ...       0.0          0.0      0.0   0.0     0.0        0.0      0.0  0.0   \n",
       "\n",
       "   Horror  Western  \n",
       "0     0.0      0.0  \n",
       "1     0.0      0.0  \n",
       "2     0.0      0.0  \n",
       "3     0.0      0.0  \n",
       "4     0.0      0.0  \n",
       "\n",
       "[5 rows x 23 columns]"
      ]
     },
     "execution_count": 13,
     "metadata": {},
     "output_type": "execute_result"
    }
   ],
   "source": [
    "#create new column for each genre:\n",
    "for genre in uniq_genres:\n",
    "    \n",
    "    movies_data[genre] = movies_data['genres'].str.contains(genre).replace(False, 0)\n",
    "\n",
    "movies_data.head()"
   ]
  },
  {
   "cell_type": "markdown",
   "metadata": {},
   "source": [
    "#### plot genre counts"
   ]
  },
  {
   "cell_type": "code",
   "execution_count": 14,
   "metadata": {
    "ExecuteTime": {
     "end_time": "2020-05-14T08:04:37.065184Z",
     "start_time": "2020-05-14T08:04:37.046552Z"
    }
   },
   "outputs": [
    {
     "data": {
      "text/plain": [
       "IMAX                    116.0\n",
       "Film-Noir               233.0\n",
       "Musical                 676.0\n",
       "Western                 885.0\n",
       "War                    1178.0\n",
       "Fantasy                1703.0\n",
       "Mystery                1868.0\n",
       "Children               1879.0\n",
       "Animation              1887.0\n",
       "Sci-Fi                 2304.0\n",
       "Adventure              2622.0\n",
       "(no genres listed)     3234.0\n",
       "Crime                  3394.0\n",
       "Documentary            3559.0\n",
       "Horror                 3808.0\n",
       "Action                 4736.0\n",
       "Romance                4998.0\n",
       "Thriller               5571.0\n",
       "Comedy                10734.0\n",
       "Drama                 16464.0\n",
       "dtype: float64"
      ]
     },
     "execution_count": 14,
     "metadata": {},
     "output_type": "execute_result"
    }
   ],
   "source": [
    "sum_genres = movies_data.iloc[:,3:].sum(axis = 0, skipna = True) \n",
    "sum_genres.sort_values()"
   ]
  },
  {
   "cell_type": "code",
   "execution_count": 15,
   "metadata": {
    "ExecuteTime": {
     "end_time": "2020-05-14T08:04:41.146785Z",
     "start_time": "2020-05-14T08:04:40.940076Z"
    }
   },
   "outputs": [
    {
     "data": {
      "image/png": "[encoded data removed]",
      "text/plain": [
       "<Figure size 720x360 with 1 Axes>"
      ]
     },
     "metadata": {
      "needs_background": "light"
     },
     "output_type": "display_data"
    }
   ],
   "source": [
    "ax = sum_genres.plot.bar(figsize=(10,5))\n",
    "ax.set_title('Genre Count', fontsize=14, fontweight='bold')\n",
    "ax.grid(linewidth=0.2)"
   ]
  },
  {
   "cell_type": "markdown",
   "metadata": {},
   "source": [
    "### analyze ratings"
   ]
  },
  {
   "cell_type": "markdown",
   "metadata": {},
   "source": [
    "Dataset info: Ratings are made on a 5-star scale, with half-star increments (0.5 stars - 5.0 stars)."
   ]
  },
  {
   "cell_type": "code",
   "execution_count": 16,
   "metadata": {
    "ExecuteTime": {
     "end_time": "2020-05-14T08:05:07.475758Z",
     "start_time": "2020-05-14T08:05:07.465463Z"
    }
   },
   "outputs": [
    {
     "data": {
      "text/plain": [
       "4.0    5275\n",
       "3.0    3928\n",
       "5.0    3003\n",
       "3.5    2484\n",
       "4.5    1711\n",
       "2.0    1351\n",
       "2.5    1000\n",
       "1.0     627\n",
       "1.5     321\n",
       "0.5     300\n",
       "Name: rating, dtype: int64"
      ]
     },
     "execution_count": 16,
     "metadata": {},
     "output_type": "execute_result"
    }
   ],
   "source": [
    "rating_counts = ratings_data['rating'].value_counts()\n",
    "rating_counts"
   ]
  },
  {
   "cell_type": "code",
   "execution_count": 17,
   "metadata": {
    "ExecuteTime": {
     "end_time": "2020-05-14T08:05:11.997958Z",
     "start_time": "2020-05-14T08:05:11.858701Z"
    }
   },
   "outputs": [
    {
     "data": {
      "image/png": "[encoded data removed]",
      "text/plain": [
       "<Figure size 720x360 with 1 Axes>"
      ]
     },
     "metadata": {
      "needs_background": "light"
     },
     "output_type": "display_data"
    }
   ],
   "source": [
    "ax = rating_counts.plot.bar(figsize=(10,5))\n",
    "ax.set_title('Rating Count', fontsize=14, fontweight='bold')\n",
    "ax.grid(linewidth=0.2)"
   ]
  },
  {
   "cell_type": "markdown",
   "metadata": {},
   "source": [
    "#### highest rated movies"
   ]
  },
  {
   "cell_type": "code",
   "execution_count": 18,
   "metadata": {
    "ExecuteTime": {
     "end_time": "2020-05-14T08:05:33.211939Z",
     "start_time": "2020-05-14T08:05:27.719891Z"
    }
   },
   "outputs": [
    {
     "data": {
      "text/html": [
       "<div>\n",
       "<style scoped>\n",
       "    .dataframe tbody tr th:only-of-type {\n",
       "        vertical-align: middle;\n",
       "    }\n",
       "\n",
       "    .dataframe tbody tr th {\n",
       "        vertical-align: top;\n",
       "    }\n",
       "\n",
       "    .dataframe thead th {\n",
       "        text-align: right;\n",
       "    }\n",
       "</style>\n",
       "<table border=\"1\" class=\"dataframe\">\n",
       "  <thead>\n",
       "    <tr style=\"text-align: right;\">\n",
       "      <th></th>\n",
       "      <th>count</th>\n",
       "      <th>mean</th>\n",
       "      <th>std</th>\n",
       "      <th>min</th>\n",
       "      <th>25%</th>\n",
       "      <th>50%</th>\n",
       "      <th>75%</th>\n",
       "      <th>max</th>\n",
       "    </tr>\n",
       "    <tr>\n",
       "      <th>movie_title</th>\n",
       "      <th></th>\n",
       "      <th></th>\n",
       "      <th></th>\n",
       "      <th></th>\n",
       "      <th></th>\n",
       "      <th></th>\n",
       "      <th></th>\n",
       "      <th></th>\n",
       "    </tr>\n",
       "  </thead>\n",
       "  <tbody>\n",
       "    <tr>\n",
       "      <th>$ellebrity (Sellebrity) (2012)</th>\n",
       "      <td>1.0</td>\n",
       "      <td>3.0</td>\n",
       "      <td>NaN</td>\n",
       "      <td>3.0</td>\n",
       "      <td>3.0</td>\n",
       "      <td>3.0</td>\n",
       "      <td>3.0</td>\n",
       "      <td>3.0</td>\n",
       "    </tr>\n",
       "    <tr>\n",
       "      <th>'night Mother (1986)</th>\n",
       "      <td>1.0</td>\n",
       "      <td>4.0</td>\n",
       "      <td>NaN</td>\n",
       "      <td>4.0</td>\n",
       "      <td>4.0</td>\n",
       "      <td>4.0</td>\n",
       "      <td>4.0</td>\n",
       "      <td>4.0</td>\n",
       "    </tr>\n",
       "    <tr>\n",
       "      <th>*batteries not included (1987)</th>\n",
       "      <td>1.0</td>\n",
       "      <td>4.0</td>\n",
       "      <td>NaN</td>\n",
       "      <td>4.0</td>\n",
       "      <td>4.0</td>\n",
       "      <td>4.0</td>\n",
       "      <td>4.0</td>\n",
       "      <td>4.0</td>\n",
       "    </tr>\n",
       "    <tr>\n",
       "      <th>...And Justice for All (1979)</th>\n",
       "      <td>1.0</td>\n",
       "      <td>4.0</td>\n",
       "      <td>NaN</td>\n",
       "      <td>4.0</td>\n",
       "      <td>4.0</td>\n",
       "      <td>4.0</td>\n",
       "      <td>4.0</td>\n",
       "      <td>4.0</td>\n",
       "    </tr>\n",
       "    <tr>\n",
       "      <th>1-900 (06) (1994)</th>\n",
       "      <td>1.0</td>\n",
       "      <td>5.0</td>\n",
       "      <td>NaN</td>\n",
       "      <td>5.0</td>\n",
       "      <td>5.0</td>\n",
       "      <td>5.0</td>\n",
       "      <td>5.0</td>\n",
       "      <td>5.0</td>\n",
       "    </tr>\n",
       "  </tbody>\n",
       "</table>\n",
       "</div>"
      ],
      "text/plain": [
       "                                count  mean  std  min  25%  50%  75%  max\n",
       "movie_title                                                              \n",
       "$ellebrity (Sellebrity) (2012)    1.0   3.0  NaN  3.0  3.0  3.0  3.0  3.0\n",
       "'night Mother (1986)              1.0   4.0  NaN  4.0  4.0  4.0  4.0  4.0\n",
       "*batteries not included (1987)    1.0   4.0  NaN  4.0  4.0  4.0  4.0  4.0\n",
       "...And Justice for All (1979)     1.0   4.0  NaN  4.0  4.0  4.0  4.0  4.0\n",
       "1-900 (06) (1994)                 1.0   5.0  NaN  5.0  5.0  5.0  5.0  5.0"
      ]
     },
     "execution_count": 18,
     "metadata": {},
     "output_type": "execute_result"
    }
   ],
   "source": [
    "movie_stats = movie_ratings_df.groupby('movie_title')['rating'].describe()\n",
    "movie_stats.head()"
   ]
  },
  {
   "cell_type": "code",
   "execution_count": 20,
   "metadata": {
    "ExecuteTime": {
     "end_time": "2020-05-14T08:06:28.508129Z",
     "start_time": "2020-05-14T08:06:28.320911Z"
    }
   },
   "outputs": [
    {
     "data": {
      "image/png": "[encoded data removed]",
      "text/plain": [
       "<Figure size 720x360 with 1 Axes>"
      ]
     },
     "metadata": {
      "needs_background": "light"
     },
     "output_type": "display_data"
    }
   ],
   "source": [
    "ax = movie_stats[movie_stats['count'] > 3]['mean'].hist(bins=15, figsize=(10,5))\n",
    "ax.set_title('Distribution of Mean Rating for Movies with more than 2 ratings', fontsize=14, fontweight='bold')\n",
    "ax.grid(linewidth=0.3)"
   ]
  },
  {
   "cell_type": "code",
   "execution_count": 21,
   "metadata": {
    "ExecuteTime": {
     "end_time": "2020-05-14T08:07:06.904049Z",
     "start_time": "2020-05-14T08:07:06.894343Z"
    }
   },
   "outputs": [
    {
     "name": "stdout",
     "output_type": "stream",
     "text": [
      "Best rated movies (based on mean rating): \n",
      "\n",
      "movie_title\n",
      "Dark Knight Rises, The (2012)    4.708333\n",
      "To Kill a Mockingbird (1962)     4.684211\n",
      "Lawrence of Arabia (1962)        4.642857\n",
      "Name: mean, dtype: float64\n"
     ]
    }
   ],
   "source": [
    "#get best rated movies based on average rating:\n",
    "best_movies = movie_stats[movie_stats['count'] > 5]['mean'].nlargest(3)\n",
    "print('Best rated movies (based on mean rating): \\n')\n",
    "print(best_movies)"
   ]
  },
  {
   "cell_type": "code",
   "execution_count": 22,
   "metadata": {
    "ExecuteTime": {
     "end_time": "2020-05-14T08:07:10.478880Z",
     "start_time": "2020-05-14T08:07:10.468616Z"
    }
   },
   "outputs": [
    {
     "data": {
      "text/plain": [
       "movie_title\n",
       "Dark Knight Rises, The (2012)    0.396481\n",
       "Lawrence of Arabia (1962)        0.377964\n",
       "To Kill a Mockingbird (1962)     0.477567\n",
       "Name: std, dtype: float64"
      ]
     },
     "execution_count": 22,
     "metadata": {},
     "output_type": "execute_result"
    }
   ],
   "source": [
    "#get devation of ratings for best movies:\n",
    "mask = ((movie_stats['count'] > 5) & (movie_stats['mean'] > 4.5))\n",
    "\n",
    "movie_stats[mask]['std']"
   ]
  },
  {
   "cell_type": "code",
   "execution_count": 23,
   "metadata": {
    "ExecuteTime": {
     "end_time": "2020-05-14T08:07:19.352306Z",
     "start_time": "2020-05-14T08:07:19.336876Z"
    }
   },
   "outputs": [
    {
     "data": {
      "text/html": [
       "<div>\n",
       "<style scoped>\n",
       "    .dataframe tbody tr th:only-of-type {\n",
       "        vertical-align: middle;\n",
       "    }\n",
       "\n",
       "    .dataframe tbody tr th {\n",
       "        vertical-align: top;\n",
       "    }\n",
       "\n",
       "    .dataframe thead th {\n",
       "        text-align: right;\n",
       "    }\n",
       "</style>\n",
       "<table border=\"1\" class=\"dataframe\">\n",
       "  <thead>\n",
       "    <tr style=\"text-align: right;\">\n",
       "      <th></th>\n",
       "      <th>count</th>\n",
       "      <th>mean</th>\n",
       "      <th>std</th>\n",
       "      <th>min</th>\n",
       "      <th>25%</th>\n",
       "      <th>50%</th>\n",
       "      <th>75%</th>\n",
       "      <th>max</th>\n",
       "    </tr>\n",
       "    <tr>\n",
       "      <th>movie_title</th>\n",
       "      <th></th>\n",
       "      <th></th>\n",
       "      <th></th>\n",
       "      <th></th>\n",
       "      <th></th>\n",
       "      <th></th>\n",
       "      <th></th>\n",
       "      <th></th>\n",
       "    </tr>\n",
       "  </thead>\n",
       "  <tbody>\n",
       "    <tr>\n",
       "      <th>Dark Knight Rises, The (2012)</th>\n",
       "      <td>12.0</td>\n",
       "      <td>4.708333</td>\n",
       "      <td>0.396481</td>\n",
       "      <td>4.0</td>\n",
       "      <td>4.5</td>\n",
       "      <td>5.0</td>\n",
       "      <td>5.0</td>\n",
       "      <td>5.0</td>\n",
       "    </tr>\n",
       "    <tr>\n",
       "      <th>To Kill a Mockingbird (1962)</th>\n",
       "      <td>19.0</td>\n",
       "      <td>4.684211</td>\n",
       "      <td>0.477567</td>\n",
       "      <td>3.5</td>\n",
       "      <td>4.5</td>\n",
       "      <td>5.0</td>\n",
       "      <td>5.0</td>\n",
       "      <td>5.0</td>\n",
       "    </tr>\n",
       "    <tr>\n",
       "      <th>Lawrence of Arabia (1962)</th>\n",
       "      <td>7.0</td>\n",
       "      <td>4.642857</td>\n",
       "      <td>0.377964</td>\n",
       "      <td>4.0</td>\n",
       "      <td>4.5</td>\n",
       "      <td>4.5</td>\n",
       "      <td>5.0</td>\n",
       "      <td>5.0</td>\n",
       "    </tr>\n",
       "  </tbody>\n",
       "</table>\n",
       "</div>"
      ],
      "text/plain": [
       "                               count      mean       std  min  25%  50%  75%  \\\n",
       "movie_title                                                                    \n",
       "Dark Knight Rises, The (2012)   12.0  4.708333  0.396481  4.0  4.5  5.0  5.0   \n",
       "To Kill a Mockingbird (1962)    19.0  4.684211  0.477567  3.5  4.5  5.0  5.0   \n",
       "Lawrence of Arabia (1962)        7.0  4.642857  0.377964  4.0  4.5  4.5  5.0   \n",
       "\n",
       "                               max  \n",
       "movie_title                         \n",
       "Dark Knight Rises, The (2012)  5.0  \n",
       "To Kill a Mockingbird (1962)   5.0  \n",
       "Lawrence of Arabia (1962)      5.0  "
      ]
     },
     "execution_count": 23,
     "metadata": {},
     "output_type": "execute_result"
    }
   ],
   "source": [
    "movie_stats.filter(best_movies.index, axis=0)"
   ]
  },
  {
   "cell_type": "code",
   "execution_count": 24,
   "metadata": {
    "ExecuteTime": {
     "end_time": "2020-05-14T08:08:35.045670Z",
     "start_time": "2020-05-14T08:08:35.037508Z"
    }
   },
   "outputs": [
    {
     "data": {
      "text/plain": [
       "movie_title\n",
       "Shawshank Redemption, The (1994)                         75.0\n",
       "Star Wars: Episode IV - A New Hope (1977)                67.0\n",
       "Star Wars: Episode V - The Empire Strikes Back (1980)    62.0\n",
       "Matrix, The (1999)                                       54.0\n",
       "Star Wars: Episode VI - Return of the Jedi (1983)        49.0\n",
       "Name: count, dtype: float64"
      ]
     },
     "execution_count": 24,
     "metadata": {},
     "output_type": "execute_result"
    }
   ],
   "source": [
    "#movies with biggest number of ratings:\n",
    "movie_stats['count'].nlargest(5)"
   ]
  },
  {
   "cell_type": "markdown",
   "metadata": {},
   "source": [
    "#### genre & ratings"
   ]
  },
  {
   "cell_type": "code",
   "execution_count": 25,
   "metadata": {
    "ExecuteTime": {
     "end_time": "2020-05-14T08:09:04.770156Z",
     "start_time": "2020-05-14T08:09:04.715617Z"
    }
   },
   "outputs": [
    {
     "data": {
      "text/html": [
       "<div>\n",
       "<style scoped>\n",
       "    .dataframe tbody tr th:only-of-type {\n",
       "        vertical-align: middle;\n",
       "    }\n",
       "\n",
       "    .dataframe tbody tr th {\n",
       "        vertical-align: top;\n",
       "    }\n",
       "\n",
       "    .dataframe thead th {\n",
       "        text-align: right;\n",
       "    }\n",
       "</style>\n",
       "<table border=\"1\" class=\"dataframe\">\n",
       "  <thead>\n",
       "    <tr style=\"text-align: right;\">\n",
       "      <th></th>\n",
       "      <th>movieId</th>\n",
       "      <th>rating</th>\n",
       "      <th>movie_title</th>\n",
       "      <th>genres</th>\n",
       "      <th>(no genres listed)</th>\n",
       "      <th>Fantasy</th>\n",
       "      <th>Crime</th>\n",
       "      <th>Thriller</th>\n",
       "      <th>Film-Noir</th>\n",
       "      <th>Romance</th>\n",
       "      <th>...</th>\n",
       "      <th>Children</th>\n",
       "      <th>Documentary</th>\n",
       "      <th>Musical</th>\n",
       "      <th>IMAX</th>\n",
       "      <th>Action</th>\n",
       "      <th>Adventure</th>\n",
       "      <th>Mystery</th>\n",
       "      <th>War</th>\n",
       "      <th>Horror</th>\n",
       "      <th>Western</th>\n",
       "    </tr>\n",
       "  </thead>\n",
       "  <tbody>\n",
       "    <tr>\n",
       "      <th>0</th>\n",
       "      <td>87430</td>\n",
       "      <td>3.0</td>\n",
       "      <td>Green Lantern (2011)</td>\n",
       "      <td>Action|Adventure|Sci-Fi</td>\n",
       "      <td>0.0</td>\n",
       "      <td>0.0</td>\n",
       "      <td>0.0</td>\n",
       "      <td>0.0</td>\n",
       "      <td>0.0</td>\n",
       "      <td>0.0</td>\n",
       "      <td>...</td>\n",
       "      <td>0.0</td>\n",
       "      <td>0.0</td>\n",
       "      <td>0.0</td>\n",
       "      <td>0.0</td>\n",
       "      <td>1.0</td>\n",
       "      <td>1.0</td>\n",
       "      <td>0.0</td>\n",
       "      <td>0.0</td>\n",
       "      <td>0.0</td>\n",
       "      <td>0.0</td>\n",
       "    </tr>\n",
       "    <tr>\n",
       "      <th>1</th>\n",
       "      <td>87430</td>\n",
       "      <td>1.5</td>\n",
       "      <td>Green Lantern (2011)</td>\n",
       "      <td>Action|Adventure|Sci-Fi</td>\n",
       "      <td>0.0</td>\n",
       "      <td>0.0</td>\n",
       "      <td>0.0</td>\n",
       "      <td>0.0</td>\n",
       "      <td>0.0</td>\n",
       "      <td>0.0</td>\n",
       "      <td>...</td>\n",
       "      <td>0.0</td>\n",
       "      <td>0.0</td>\n",
       "      <td>0.0</td>\n",
       "      <td>0.0</td>\n",
       "      <td>1.0</td>\n",
       "      <td>1.0</td>\n",
       "      <td>0.0</td>\n",
       "      <td>0.0</td>\n",
       "      <td>0.0</td>\n",
       "      <td>0.0</td>\n",
       "    </tr>\n",
       "    <tr>\n",
       "      <th>2</th>\n",
       "      <td>87430</td>\n",
       "      <td>1.0</td>\n",
       "      <td>Green Lantern (2011)</td>\n",
       "      <td>Action|Adventure|Sci-Fi</td>\n",
       "      <td>0.0</td>\n",
       "      <td>0.0</td>\n",
       "      <td>0.0</td>\n",
       "      <td>0.0</td>\n",
       "      <td>0.0</td>\n",
       "      <td>0.0</td>\n",
       "      <td>...</td>\n",
       "      <td>0.0</td>\n",
       "      <td>0.0</td>\n",
       "      <td>0.0</td>\n",
       "      <td>0.0</td>\n",
       "      <td>1.0</td>\n",
       "      <td>1.0</td>\n",
       "      <td>0.0</td>\n",
       "      <td>0.0</td>\n",
       "      <td>0.0</td>\n",
       "      <td>0.0</td>\n",
       "    </tr>\n",
       "    <tr>\n",
       "      <th>3</th>\n",
       "      <td>87430</td>\n",
       "      <td>2.0</td>\n",
       "      <td>Green Lantern (2011)</td>\n",
       "      <td>Action|Adventure|Sci-Fi</td>\n",
       "      <td>0.0</td>\n",
       "      <td>0.0</td>\n",
       "      <td>0.0</td>\n",
       "      <td>0.0</td>\n",
       "      <td>0.0</td>\n",
       "      <td>0.0</td>\n",
       "      <td>...</td>\n",
       "      <td>0.0</td>\n",
       "      <td>0.0</td>\n",
       "      <td>0.0</td>\n",
       "      <td>0.0</td>\n",
       "      <td>1.0</td>\n",
       "      <td>1.0</td>\n",
       "      <td>0.0</td>\n",
       "      <td>0.0</td>\n",
       "      <td>0.0</td>\n",
       "      <td>0.0</td>\n",
       "    </tr>\n",
       "    <tr>\n",
       "      <th>4</th>\n",
       "      <td>87430</td>\n",
       "      <td>3.5</td>\n",
       "      <td>Green Lantern (2011)</td>\n",
       "      <td>Action|Adventure|Sci-Fi</td>\n",
       "      <td>0.0</td>\n",
       "      <td>0.0</td>\n",
       "      <td>0.0</td>\n",
       "      <td>0.0</td>\n",
       "      <td>0.0</td>\n",
       "      <td>0.0</td>\n",
       "      <td>...</td>\n",
       "      <td>0.0</td>\n",
       "      <td>0.0</td>\n",
       "      <td>0.0</td>\n",
       "      <td>0.0</td>\n",
       "      <td>1.0</td>\n",
       "      <td>1.0</td>\n",
       "      <td>0.0</td>\n",
       "      <td>0.0</td>\n",
       "      <td>0.0</td>\n",
       "      <td>0.0</td>\n",
       "    </tr>\n",
       "  </tbody>\n",
       "</table>\n",
       "<p>5 rows × 24 columns</p>\n",
       "</div>"
      ],
      "text/plain": [
       "   movieId  rating           movie_title                   genres  \\\n",
       "0    87430     3.0  Green Lantern (2011)  Action|Adventure|Sci-Fi   \n",
       "1    87430     1.5  Green Lantern (2011)  Action|Adventure|Sci-Fi   \n",
       "2    87430     1.0  Green Lantern (2011)  Action|Adventure|Sci-Fi   \n",
       "3    87430     2.0  Green Lantern (2011)  Action|Adventure|Sci-Fi   \n",
       "4    87430     3.5  Green Lantern (2011)  Action|Adventure|Sci-Fi   \n",
       "\n",
       "   (no genres listed)  Fantasy  Crime  Thriller  Film-Noir  Romance  ...  \\\n",
       "0                 0.0      0.0    0.0       0.0        0.0      0.0  ...   \n",
       "1                 0.0      0.0    0.0       0.0        0.0      0.0  ...   \n",
       "2                 0.0      0.0    0.0       0.0        0.0      0.0  ...   \n",
       "3                 0.0      0.0    0.0       0.0        0.0      0.0  ...   \n",
       "4                 0.0      0.0    0.0       0.0        0.0      0.0  ...   \n",
       "\n",
       "   Children  Documentary  Musical  IMAX  Action  Adventure  Mystery  War  \\\n",
       "0       0.0          0.0      0.0   0.0     1.0        1.0      0.0  0.0   \n",
       "1       0.0          0.0      0.0   0.0     1.0        1.0      0.0  0.0   \n",
       "2       0.0          0.0      0.0   0.0     1.0        1.0      0.0  0.0   \n",
       "3       0.0          0.0      0.0   0.0     1.0        1.0      0.0  0.0   \n",
       "4       0.0          0.0      0.0   0.0     1.0        1.0      0.0  0.0   \n",
       "\n",
       "   Horror  Western  \n",
       "0     0.0      0.0  \n",
       "1     0.0      0.0  \n",
       "2     0.0      0.0  \n",
       "3     0.0      0.0  \n",
       "4     0.0      0.0  \n",
       "\n",
       "[5 rows x 24 columns]"
      ]
     },
     "execution_count": 25,
     "metadata": {},
     "output_type": "execute_result"
    }
   ],
   "source": [
    "#merge dfs to get ratings & genres\n",
    "ratings_and_genre = pd.merge(ratings_data[['movieId','rating']], movies_data, on='movieId')\n",
    "ratings_and_genre.head()"
   ]
  },
  {
   "cell_type": "code",
   "execution_count": 26,
   "metadata": {
    "ExecuteTime": {
     "end_time": "2020-05-14T08:09:19.003678Z",
     "start_time": "2020-05-14T08:09:18.965584Z"
    }
   },
   "outputs": [
    {
     "data": {
      "text/html": [
       "<div>\n",
       "<style scoped>\n",
       "    .dataframe tbody tr th:only-of-type {\n",
       "        vertical-align: middle;\n",
       "    }\n",
       "\n",
       "    .dataframe tbody tr th {\n",
       "        vertical-align: top;\n",
       "    }\n",
       "\n",
       "    .dataframe thead th {\n",
       "        text-align: right;\n",
       "    }\n",
       "</style>\n",
       "<table border=\"1\" class=\"dataframe\">\n",
       "  <thead>\n",
       "    <tr style=\"text-align: right;\">\n",
       "      <th></th>\n",
       "      <th>genre</th>\n",
       "      <th>mean_rating</th>\n",
       "      <th>rating_count</th>\n",
       "    </tr>\n",
       "  </thead>\n",
       "  <tbody>\n",
       "    <tr>\n",
       "      <th>0</th>\n",
       "      <td>Drama</td>\n",
       "      <td>3.682685</td>\n",
       "      <td>5400.0</td>\n",
       "    </tr>\n",
       "    <tr>\n",
       "      <th>1</th>\n",
       "      <td>Comedy</td>\n",
       "      <td>3.425258</td>\n",
       "      <td>4161.0</td>\n",
       "    </tr>\n",
       "    <tr>\n",
       "      <th>2</th>\n",
       "      <td>Thriller</td>\n",
       "      <td>3.492128</td>\n",
       "      <td>3430.0</td>\n",
       "    </tr>\n",
       "    <tr>\n",
       "      <th>3</th>\n",
       "      <td>Romance</td>\n",
       "      <td>3.519819</td>\n",
       "      <td>2094.0</td>\n",
       "    </tr>\n",
       "    <tr>\n",
       "      <th>4</th>\n",
       "      <td>Action</td>\n",
       "      <td>3.489417</td>\n",
       "      <td>3685.0</td>\n",
       "    </tr>\n",
       "  </tbody>\n",
       "</table>\n",
       "</div>"
      ],
      "text/plain": [
       "      genre  mean_rating  rating_count\n",
       "0     Drama     3.682685        5400.0\n",
       "1    Comedy     3.425258        4161.0\n",
       "2  Thriller     3.492128        3430.0\n",
       "3   Romance     3.519819        2094.0\n",
       "4    Action     3.489417        3685.0"
      ]
     },
     "execution_count": 26,
     "metadata": {},
     "output_type": "execute_result"
    }
   ],
   "source": [
    "#get most common genres:\n",
    "most_common_genres = list(sum_genres.nlargest(10).index)\n",
    "\n",
    "#create custom dict to store stats of genres:\n",
    "genre_ratings_dict = {}\n",
    "for genre in most_common_genres:\n",
    "    mean_rating = ratings_and_genre[ratings_and_genre[genre] > 0]['rating'].mean()\n",
    "    rating_count = ratings_and_genre[ratings_and_genre[genre] > 0]['rating'].count()\n",
    "    genre_ratings_dict[genre] = [mean_rating,rating_count]\n",
    "    \n",
    "#create df:\n",
    "genre_ratings_df = pd.DataFrame.from_dict(genre_ratings_dict)\n",
    "\n",
    "#get final df:\n",
    "genre_ratings_df = genre_ratings_df.transpose().reset_index() \n",
    "\n",
    "genre_ratings_df.columns = ['genre','mean_rating', 'rating_count']\n",
    "genre_ratings_df.head()"
   ]
  },
  {
   "cell_type": "code",
   "execution_count": 27,
   "metadata": {
    "ExecuteTime": {
     "end_time": "2020-05-14T08:09:25.371119Z",
     "start_time": "2020-05-14T08:09:25.219651Z"
    }
   },
   "outputs": [
    {
     "data": {
      "image/png": "[encoded data removed]",
      "text/plain": [
       "<Figure size 864x576 with 1 Axes>"
      ]
     },
     "metadata": {
      "needs_background": "light"
     },
     "output_type": "display_data"
    }
   ],
   "source": [
    "fig, ax = plt.subplots(figsize=(12,8))\n",
    "\n",
    "ax.scatter('genre', 'mean_rating', s='rating_count',alpha=0.5, data=genre_ratings_df)\n",
    "ax.set_xlabel(\"Genre\", size=14)\n",
    "ax.set_ylabel(\"Mean Rating\", size=14)\n",
    "ax.set_title(\"Genre Rating vs Rating Count\", size=14, fontweight = 'bold')\n",
    "#For each point, we add a text inside the bubble\n",
    "for line in range(0,genre_ratings_df.shape[0]):\n",
    "     ax.text(genre_ratings_df.genre[line], genre_ratings_df.mean_rating[line], genre_ratings_df.rating_count[line], horizontalalignment='center', size='medium', color='black', weight='semibold')\n",
    "\n",
    "plt.show()"
   ]
  },
  {
   "cell_type": "markdown",
   "metadata": {},
   "source": [
    "### analyze number of ratings per user"
   ]
  },
  {
   "cell_type": "code",
   "execution_count": 28,
   "metadata": {
    "ExecuteTime": {
     "end_time": "2020-05-14T08:10:03.997903Z",
     "start_time": "2020-05-14T08:10:02.530152Z"
    }
   },
   "outputs": [
    {
     "data": {
      "text/plain": [
       "userId\n",
       "User_100015             [Wallace & Gromit: A Close Shave (1995)]\n",
       "User_100023                                   [Sex Drive (2008)]\n",
       "User_100036                             [Minority Report (2002)]\n",
       "User_100047                              [Tropic Thunder (2008)]\n",
       "User_100049                                  [Parenthood (1989)]\n",
       "                                     ...                        \n",
       "User_9998      [Gangs of New York (2002), X-Men Origins: Wolv...\n",
       "User_99984                     [Star Wars: The Last Jedi (2017)]\n",
       "User_99987                                 [Transformers (2007)]\n",
       "User_99996                       [League of Their Own, A (1992)]\n",
       "User_99999     [Rurouni Kenshin (RurÃ´ni Kenshin: Meiji kenka...\n",
       "Name: movie_title, Length: 10846, dtype: object"
      ]
     },
     "execution_count": 28,
     "metadata": {},
     "output_type": "execute_result"
    }
   ],
   "source": [
    "movie_ratings_df.groupby('userId')['movie_title'].unique()"
   ]
  },
  {
   "cell_type": "code",
   "execution_count": 29,
   "metadata": {
    "ExecuteTime": {
     "end_time": "2020-05-14T08:10:17.109183Z",
     "start_time": "2020-05-14T08:10:17.093166Z"
    }
   },
   "outputs": [
    {
     "data": {
      "text/plain": [
       "userId\n",
       "User_100015    1\n",
       "User_100023    1\n",
       "User_100036    1\n",
       "User_100047    1\n",
       "User_100049    1\n",
       "              ..\n",
       "User_9998      2\n",
       "User_99984     1\n",
       "User_99987     1\n",
       "User_99996     1\n",
       "User_99999     1\n",
       "Length: 10846, dtype: int64"
      ]
     },
     "execution_count": 29,
     "metadata": {},
     "output_type": "execute_result"
    }
   ],
   "source": [
    "movie_ratings_df.groupby('userId').size()"
   ]
  },
  {
   "cell_type": "code",
   "execution_count": 30,
   "metadata": {
    "ExecuteTime": {
     "end_time": "2020-05-14T08:10:27.339818Z",
     "start_time": "2020-05-14T08:10:27.320243Z"
    }
   },
   "outputs": [
    {
     "data": {
      "text/plain": [
       "count    10846.000000\n",
       "mean         1.129817\n",
       "std          0.454598\n",
       "min          1.000000\n",
       "25%          1.000000\n",
       "50%          1.000000\n",
       "75%          1.000000\n",
       "max         18.000000\n",
       "dtype: float64"
      ]
     },
     "execution_count": 30,
     "metadata": {},
     "output_type": "execute_result"
    }
   ],
   "source": [
    "movie_ratings_df.groupby('userId').size().describe()"
   ]
  },
  {
   "cell_type": "markdown",
   "metadata": {},
   "source": [
    "### analyze most recent ratings & ratings over time"
   ]
  },
  {
   "cell_type": "code",
   "execution_count": 31,
   "metadata": {
    "ExecuteTime": {
     "end_time": "2020-05-14T08:11:25.845446Z",
     "start_time": "2020-05-14T08:11:25.788998Z"
    }
   },
   "outputs": [
    {
     "data": {
      "text/html": [
       "<div>\n",
       "<style scoped>\n",
       "    .dataframe tbody tr th:only-of-type {\n",
       "        vertical-align: middle;\n",
       "    }\n",
       "\n",
       "    .dataframe tbody tr th {\n",
       "        vertical-align: top;\n",
       "    }\n",
       "\n",
       "    .dataframe thead th {\n",
       "        text-align: right;\n",
       "    }\n",
       "</style>\n",
       "<table border=\"1\" class=\"dataframe\">\n",
       "  <thead>\n",
       "    <tr style=\"text-align: right;\">\n",
       "      <th></th>\n",
       "      <th>movieId</th>\n",
       "      <th>rating</th>\n",
       "      <th>timestamp</th>\n",
       "      <th>movie_title</th>\n",
       "      <th>genres</th>\n",
       "      <th>(no genres listed)</th>\n",
       "      <th>Fantasy</th>\n",
       "      <th>Crime</th>\n",
       "      <th>Thriller</th>\n",
       "      <th>Film-Noir</th>\n",
       "      <th>...</th>\n",
       "      <th>Children</th>\n",
       "      <th>Documentary</th>\n",
       "      <th>Musical</th>\n",
       "      <th>IMAX</th>\n",
       "      <th>Action</th>\n",
       "      <th>Adventure</th>\n",
       "      <th>Mystery</th>\n",
       "      <th>War</th>\n",
       "      <th>Horror</th>\n",
       "      <th>Western</th>\n",
       "    </tr>\n",
       "  </thead>\n",
       "  <tbody>\n",
       "    <tr>\n",
       "      <th>6968</th>\n",
       "      <td>6754</td>\n",
       "      <td>4.0</td>\n",
       "      <td>1573622121</td>\n",
       "      <td>Underworld (2003)</td>\n",
       "      <td>Action|Fantasy|Horror</td>\n",
       "      <td>0.0</td>\n",
       "      <td>1.0</td>\n",
       "      <td>0.0</td>\n",
       "      <td>0.0</td>\n",
       "      <td>0.0</td>\n",
       "      <td>...</td>\n",
       "      <td>0.0</td>\n",
       "      <td>0.0</td>\n",
       "      <td>0.0</td>\n",
       "      <td>0.0</td>\n",
       "      <td>1.0</td>\n",
       "      <td>0.0</td>\n",
       "      <td>0.0</td>\n",
       "      <td>0.0</td>\n",
       "      <td>1.0</td>\n",
       "      <td>0.0</td>\n",
       "    </tr>\n",
       "    <tr>\n",
       "      <th>2587</th>\n",
       "      <td>1221</td>\n",
       "      <td>5.0</td>\n",
       "      <td>1573665542</td>\n",
       "      <td>Godfather: Part II, The (1974)</td>\n",
       "      <td>Crime|Drama</td>\n",
       "      <td>0.0</td>\n",
       "      <td>0.0</td>\n",
       "      <td>1.0</td>\n",
       "      <td>0.0</td>\n",
       "      <td>0.0</td>\n",
       "      <td>...</td>\n",
       "      <td>0.0</td>\n",
       "      <td>0.0</td>\n",
       "      <td>0.0</td>\n",
       "      <td>0.0</td>\n",
       "      <td>0.0</td>\n",
       "      <td>0.0</td>\n",
       "      <td>0.0</td>\n",
       "      <td>0.0</td>\n",
       "      <td>0.0</td>\n",
       "      <td>0.0</td>\n",
       "    </tr>\n",
       "    <tr>\n",
       "      <th>11364</th>\n",
       "      <td>162656</td>\n",
       "      <td>3.0</td>\n",
       "      <td>1573832225</td>\n",
       "      <td>Dishoom (2016)</td>\n",
       "      <td>Action|Comedy</td>\n",
       "      <td>0.0</td>\n",
       "      <td>0.0</td>\n",
       "      <td>0.0</td>\n",
       "      <td>0.0</td>\n",
       "      <td>0.0</td>\n",
       "      <td>...</td>\n",
       "      <td>0.0</td>\n",
       "      <td>0.0</td>\n",
       "      <td>0.0</td>\n",
       "      <td>0.0</td>\n",
       "      <td>1.0</td>\n",
       "      <td>0.0</td>\n",
       "      <td>0.0</td>\n",
       "      <td>0.0</td>\n",
       "      <td>0.0</td>\n",
       "      <td>0.0</td>\n",
       "    </tr>\n",
       "    <tr>\n",
       "      <th>724</th>\n",
       "      <td>33794</td>\n",
       "      <td>4.5</td>\n",
       "      <td>1573877569</td>\n",
       "      <td>Batman Begins (2005)</td>\n",
       "      <td>Action|Crime|IMAX</td>\n",
       "      <td>0.0</td>\n",
       "      <td>0.0</td>\n",
       "      <td>1.0</td>\n",
       "      <td>0.0</td>\n",
       "      <td>0.0</td>\n",
       "      <td>...</td>\n",
       "      <td>0.0</td>\n",
       "      <td>0.0</td>\n",
       "      <td>0.0</td>\n",
       "      <td>1.0</td>\n",
       "      <td>1.0</td>\n",
       "      <td>0.0</td>\n",
       "      <td>0.0</td>\n",
       "      <td>0.0</td>\n",
       "      <td>0.0</td>\n",
       "      <td>0.0</td>\n",
       "    </tr>\n",
       "    <tr>\n",
       "      <th>3370</th>\n",
       "      <td>4855</td>\n",
       "      <td>3.0</td>\n",
       "      <td>1573933716</td>\n",
       "      <td>Dirty Harry (1971)</td>\n",
       "      <td>Action|Crime|Thriller</td>\n",
       "      <td>0.0</td>\n",
       "      <td>0.0</td>\n",
       "      <td>1.0</td>\n",
       "      <td>1.0</td>\n",
       "      <td>0.0</td>\n",
       "      <td>...</td>\n",
       "      <td>0.0</td>\n",
       "      <td>0.0</td>\n",
       "      <td>0.0</td>\n",
       "      <td>0.0</td>\n",
       "      <td>1.0</td>\n",
       "      <td>0.0</td>\n",
       "      <td>0.0</td>\n",
       "      <td>0.0</td>\n",
       "      <td>0.0</td>\n",
       "      <td>0.0</td>\n",
       "    </tr>\n",
       "    <tr>\n",
       "      <th>3790</th>\n",
       "      <td>47610</td>\n",
       "      <td>3.0</td>\n",
       "      <td>1573938844</td>\n",
       "      <td>Illusionist, The (2006)</td>\n",
       "      <td>Drama|Fantasy|Mystery|Romance</td>\n",
       "      <td>0.0</td>\n",
       "      <td>1.0</td>\n",
       "      <td>0.0</td>\n",
       "      <td>0.0</td>\n",
       "      <td>0.0</td>\n",
       "      <td>...</td>\n",
       "      <td>0.0</td>\n",
       "      <td>0.0</td>\n",
       "      <td>0.0</td>\n",
       "      <td>0.0</td>\n",
       "      <td>0.0</td>\n",
       "      <td>0.0</td>\n",
       "      <td>1.0</td>\n",
       "      <td>0.0</td>\n",
       "      <td>0.0</td>\n",
       "      <td>0.0</td>\n",
       "    </tr>\n",
       "    <tr>\n",
       "      <th>5715</th>\n",
       "      <td>48</td>\n",
       "      <td>3.0</td>\n",
       "      <td>1574014752</td>\n",
       "      <td>Pocahontas (1995)</td>\n",
       "      <td>Animation|Children|Drama|Musical|Romance</td>\n",
       "      <td>0.0</td>\n",
       "      <td>0.0</td>\n",
       "      <td>0.0</td>\n",
       "      <td>0.0</td>\n",
       "      <td>0.0</td>\n",
       "      <td>...</td>\n",
       "      <td>1.0</td>\n",
       "      <td>0.0</td>\n",
       "      <td>1.0</td>\n",
       "      <td>0.0</td>\n",
       "      <td>0.0</td>\n",
       "      <td>0.0</td>\n",
       "      <td>0.0</td>\n",
       "      <td>0.0</td>\n",
       "      <td>0.0</td>\n",
       "      <td>0.0</td>\n",
       "    </tr>\n",
       "    <tr>\n",
       "      <th>11107</th>\n",
       "      <td>168612</td>\n",
       "      <td>1.5</td>\n",
       "      <td>1574038093</td>\n",
       "      <td>Ghost in the Shell (2017)</td>\n",
       "      <td>Action|Drama|Sci-Fi</td>\n",
       "      <td>0.0</td>\n",
       "      <td>0.0</td>\n",
       "      <td>0.0</td>\n",
       "      <td>0.0</td>\n",
       "      <td>0.0</td>\n",
       "      <td>...</td>\n",
       "      <td>0.0</td>\n",
       "      <td>0.0</td>\n",
       "      <td>0.0</td>\n",
       "      <td>0.0</td>\n",
       "      <td>1.0</td>\n",
       "      <td>0.0</td>\n",
       "      <td>0.0</td>\n",
       "      <td>0.0</td>\n",
       "      <td>0.0</td>\n",
       "      <td>0.0</td>\n",
       "    </tr>\n",
       "    <tr>\n",
       "      <th>9799</th>\n",
       "      <td>203401</td>\n",
       "      <td>0.5</td>\n",
       "      <td>1574042235</td>\n",
       "      <td>Fred 2: Night of the Living Fred (2011)</td>\n",
       "      <td>Adventure|Children|Comedy|Horror</td>\n",
       "      <td>0.0</td>\n",
       "      <td>0.0</td>\n",
       "      <td>0.0</td>\n",
       "      <td>0.0</td>\n",
       "      <td>0.0</td>\n",
       "      <td>...</td>\n",
       "      <td>1.0</td>\n",
       "      <td>0.0</td>\n",
       "      <td>0.0</td>\n",
       "      <td>0.0</td>\n",
       "      <td>0.0</td>\n",
       "      <td>1.0</td>\n",
       "      <td>0.0</td>\n",
       "      <td>0.0</td>\n",
       "      <td>1.0</td>\n",
       "      <td>0.0</td>\n",
       "    </tr>\n",
       "    <tr>\n",
       "      <th>6830</th>\n",
       "      <td>1732</td>\n",
       "      <td>4.5</td>\n",
       "      <td>1574112354</td>\n",
       "      <td>Big Lebowski, The (1998)</td>\n",
       "      <td>Comedy|Crime</td>\n",
       "      <td>0.0</td>\n",
       "      <td>0.0</td>\n",
       "      <td>1.0</td>\n",
       "      <td>0.0</td>\n",
       "      <td>0.0</td>\n",
       "      <td>...</td>\n",
       "      <td>0.0</td>\n",
       "      <td>0.0</td>\n",
       "      <td>0.0</td>\n",
       "      <td>0.0</td>\n",
       "      <td>0.0</td>\n",
       "      <td>0.0</td>\n",
       "      <td>0.0</td>\n",
       "      <td>0.0</td>\n",
       "      <td>0.0</td>\n",
       "      <td>0.0</td>\n",
       "    </tr>\n",
       "  </tbody>\n",
       "</table>\n",
       "<p>10 rows × 25 columns</p>\n",
       "</div>"
      ],
      "text/plain": [
       "       movieId  rating   timestamp                              movie_title  \\\n",
       "6968      6754     4.0  1573622121                        Underworld (2003)   \n",
       "2587      1221     5.0  1573665542           Godfather: Part II, The (1974)   \n",
       "11364   162656     3.0  1573832225                           Dishoom (2016)   \n",
       "724      33794     4.5  1573877569                     Batman Begins (2005)   \n",
       "3370      4855     3.0  1573933716                       Dirty Harry (1971)   \n",
       "3790     47610     3.0  1573938844                  Illusionist, The (2006)   \n",
       "5715        48     3.0  1574014752                        Pocahontas (1995)   \n",
       "11107   168612     1.5  1574038093                Ghost in the Shell (2017)   \n",
       "9799    203401     0.5  1574042235  Fred 2: Night of the Living Fred (2011)   \n",
       "6830      1732     4.5  1574112354                 Big Lebowski, The (1998)   \n",
       "\n",
       "                                         genres  (no genres listed)  Fantasy  \\\n",
       "6968                      Action|Fantasy|Horror                 0.0      1.0   \n",
       "2587                                Crime|Drama                 0.0      0.0   \n",
       "11364                             Action|Comedy                 0.0      0.0   \n",
       "724                           Action|Crime|IMAX                 0.0      0.0   \n",
       "3370                      Action|Crime|Thriller                 0.0      0.0   \n",
       "3790              Drama|Fantasy|Mystery|Romance                 0.0      1.0   \n",
       "5715   Animation|Children|Drama|Musical|Romance                 0.0      0.0   \n",
       "11107                       Action|Drama|Sci-Fi                 0.0      0.0   \n",
       "9799           Adventure|Children|Comedy|Horror                 0.0      0.0   \n",
       "6830                               Comedy|Crime                 0.0      0.0   \n",
       "\n",
       "       Crime  Thriller  Film-Noir  ...  Children  Documentary  Musical  IMAX  \\\n",
       "6968     0.0       0.0        0.0  ...       0.0          0.0      0.0   0.0   \n",
       "2587     1.0       0.0        0.0  ...       0.0          0.0      0.0   0.0   \n",
       "11364    0.0       0.0        0.0  ...       0.0          0.0      0.0   0.0   \n",
       "724      1.0       0.0        0.0  ...       0.0          0.0      0.0   1.0   \n",
       "3370     1.0       1.0        0.0  ...       0.0          0.0      0.0   0.0   \n",
       "3790     0.0       0.0        0.0  ...       0.0          0.0      0.0   0.0   \n",
       "5715     0.0       0.0        0.0  ...       1.0          0.0      1.0   0.0   \n",
       "11107    0.0       0.0        0.0  ...       0.0          0.0      0.0   0.0   \n",
       "9799     0.0       0.0        0.0  ...       1.0          0.0      0.0   0.0   \n",
       "6830     1.0       0.0        0.0  ...       0.0          0.0      0.0   0.0   \n",
       "\n",
       "       Action  Adventure  Mystery  War  Horror  Western  \n",
       "6968      1.0        0.0      0.0  0.0     1.0      0.0  \n",
       "2587      0.0        0.0      0.0  0.0     0.0      0.0  \n",
       "11364     1.0        0.0      0.0  0.0     0.0      0.0  \n",
       "724       1.0        0.0      0.0  0.0     0.0      0.0  \n",
       "3370      1.0        0.0      0.0  0.0     0.0      0.0  \n",
       "3790      0.0        0.0      1.0  0.0     0.0      0.0  \n",
       "5715      0.0        0.0      0.0  0.0     0.0      0.0  \n",
       "11107     1.0        0.0      0.0  0.0     0.0      0.0  \n",
       "9799      0.0        1.0      0.0  0.0     1.0      0.0  \n",
       "6830      0.0        0.0      0.0  0.0     0.0      0.0  \n",
       "\n",
       "[10 rows x 25 columns]"
      ]
     },
     "execution_count": 31,
     "metadata": {},
     "output_type": "execute_result"
    }
   ],
   "source": [
    "#merge dfs to get ratings & genres\n",
    "ratings_and_movies_time = pd.merge(ratings_data[['movieId','rating','timestamp']], movies_data, on='movieId')\n",
    "ratings_and_movies_time.sort_values('timestamp', inplace=True)\n",
    "ratings_and_movies_time.tail(10)"
   ]
  },
  {
   "cell_type": "code",
   "execution_count": 32,
   "metadata": {
    "ExecuteTime": {
     "end_time": "2020-05-14T08:11:57.338468Z",
     "start_time": "2020-05-14T08:11:57.317975Z"
    }
   },
   "outputs": [],
   "source": [
    "#calculate cumsum for each genre\n",
    "for genre in uniq_genres:\n",
    "    ratings_and_movies_time[genre + '_cumsum'] = ratings_and_movies_time[genre].cumsum()\n",
    "\n",
    "#get cumsum labels:\n",
    "col_labels = list(ratings_and_movies_time.columns)\n",
    "cumsum_labels = [col for col in col_labels if 'cumsum' in col]\n",
    "cumsum_labels.append('timestamp')"
   ]
  },
  {
   "cell_type": "code",
   "execution_count": 33,
   "metadata": {
    "ExecuteTime": {
     "end_time": "2020-05-14T08:11:58.551346Z",
     "start_time": "2020-05-14T08:11:58.324892Z"
    }
   },
   "outputs": [
    {
     "data": {
      "image/png": "[encoded data removed]",
      "text/plain": [
       "<Figure size 720x360 with 1 Axes>"
      ]
     },
     "metadata": {
      "needs_background": "light"
     },
     "output_type": "display_data"
    }
   ],
   "source": [
    "#plot genre counts over time:\n",
    "ax = ratings_and_movies_time[cumsum_labels].plot.line(x='timestamp', y=['Comedy_cumsum', 'Drama_cumsum','Action_cumsum','Documentary_cumsum'], figsize=(10,5))\n",
    "ax.set_title('Number of ratings per genre over time', fontsize=14, fontweight='bold')\n",
    "ax.grid(linewidth=0.3)"
   ]
  },
  {
   "cell_type": "code",
   "execution_count": null,
   "metadata": {},
   "outputs": [],
   "source": []
  },
  {
   "cell_type": "code",
   "execution_count": null,
   "metadata": {},
   "outputs": [],
   "source": []
  },
  {
   "cell_type": "code",
   "execution_count": null,
   "metadata": {},
   "outputs": [],
   "source": []
  }
 ],
 "metadata": {
  "kernelspec": {
   "display_name": "Python 3",
   "language": "python",
   "name": "python3"
  },
  "language_info": {
   "codemirror_mode": {
    "name": "ipython",
    "version": 3
   },
   "file_extension": ".py",
   "mimetype": "text/x-python",
   "name": "python",
   "nbconvert_exporter": "python",
   "pygments_lexer": "ipython3",
   "version": "3.6.8"
  },
  "toc": {
   "base_numbering": 1,
   "nav_menu": {},
   "number_sections": true,
   "sideBar": true,
   "skip_h1_title": false,
   "title_cell": "Table of Contents",
   "title_sidebar": "Contents",
   "toc_cell": false,
   "toc_position": {},
   "toc_section_display": true,
   "toc_window_display": true
  },
  "varInspector": {
   "cols": {
    "lenName": 16,
    "lenType": 16,
    "lenVar": 40
   },
   "kernels_config": {
    "python": {
     "delete_cmd_postfix": "",
     "delete_cmd_prefix": "del ",
     "library": "var_list.py",
     "varRefreshCmd": "print(var_dic_list())"
    },
    "r": {
     "delete_cmd_postfix": ") ",
     "delete_cmd_prefix": "rm(",
     "library": "var_list.r",
     "varRefreshCmd": "cat(var_dic_list()) "
    }
   },
   "types_to_exclude": [
    "module",
    "function",
    "builtin_function_or_method",
    "instance",
    "_Feature"
   ],
   "window_display": false
  }
 },
 "nbformat": 4,
 "nbformat_minor": 2
}
