{
 "cells": [
  {
   "cell_type": "markdown",
   "metadata": {},
   "source": [
    "- In this notebook a simple SVD approach is used to fit a low rank matrix based on a given training set. The result is then used to get predictions for a separate test set. \n",
    "- In addition the extracted features of the SVD are used to analyze similarities among movie titles\n",
    "\n",
    "- The movie & rating data is based on the MovieLens 100K (09/2018) data set"
   ]
  },
  {
   "cell_type": "code",
   "execution_count": 1,
   "metadata": {
    "ExecuteTime": {
     "end_time": "2020-05-20T14:28:43.583205Z",
     "start_time": "2020-05-20T14:28:43.245531Z"
    }
   },
   "outputs": [],
   "source": [
    "import numpy as np\n",
    "import pandas as pd\n",
    "\n",
    "from utility_matrix_prep import create_utility_matrix, get_merged_ratings_df\n",
    "\n",
    "from scipy.linalg import svd, sqrtm\n",
    "\n",
    "from sklearn.neighbors import NearestNeighbors"
   ]
  },
  {
   "cell_type": "markdown",
   "metadata": {},
   "source": [
    "### load dataset"
   ]
  },
  {
   "cell_type": "code",
   "execution_count": 2,
   "metadata": {
    "ExecuteTime": {
     "end_time": "2020-05-20T14:28:44.310080Z",
     "start_time": "2020-05-20T14:28:44.266899Z"
    }
   },
   "outputs": [],
   "source": [
    "#load ratings data:\n",
    "path = '/media/vincent/harddrive/Movielens_data/ml-small_09_2018/'\n",
    "file_name = 'ratings.csv'\n",
    "\n",
    "rating_data = pd.read_csv(path + file_name,  encoding = \"ISO-8859-1\", header=0)\n",
    "\n",
    "#load movies data:\n",
    "movies_data = pd.read_csv(path + 'movies.csv',encoding = \"ISO-8859-1\", header=0)\n",
    "#adjust some col-labels:\n",
    "movies_data['movie_title'] = movies_data['title']\n",
    "movies_data = movies_data[['movieId','movie_title','genres']]\n",
    "    \n"
   ]
  },
  {
   "cell_type": "markdown",
   "metadata": {},
   "source": [
    "### create train & test set "
   ]
  },
  {
   "cell_type": "code",
   "execution_count": 3,
   "metadata": {
    "ExecuteTime": {
     "end_time": "2020-05-20T14:28:45.004310Z",
     "start_time": "2020-05-20T14:28:44.993693Z"
    }
   },
   "outputs": [],
   "source": [
    "def train_test_split(data_df, ratio = 0.2):\n",
    "    \n",
    "    '''\n",
    "    creates test_set based on most recent x% of ratings for each user \n",
    "    remaining entries are used as training set\n",
    "    '''\n",
    "    \n",
    "    test_set = pd.DataFrame(columns=data_df.columns)\n",
    "    train_set = pd.DataFrame(columns=data_df.columns)\n",
    "\n",
    "    grouped_ratings = data_df.groupby('userId')\n",
    "    \n",
    "    #get most recent ratings of each user and split into train & testset:\n",
    "    for name, group in grouped_ratings:\n",
    "        set_size = int(group.shape[0] * ratio)\n",
    "        temp_test = group.sort_values('timestamp').iloc[group.shape[0]-1-set_size:] #slice last (most recent) rows of sorted df\n",
    "        temp_train = group.sort_values('timestamp').iloc[:group.shape[0]-2-set_size] #slice first rows of sorted df\n",
    "        \n",
    "        test_set = pd.concat([test_set, temp_test])\n",
    "        train_set = pd.concat([train_set, temp_train])\n",
    "        \n",
    "    return train_set, test_set"
   ]
  },
  {
   "cell_type": "markdown",
   "metadata": {},
   "source": [
    "The data set is sorted by the given timestamps. The most recent ratings of each user are used as test set (most recent 20%)"
   ]
  },
  {
   "cell_type": "code",
   "execution_count": 4,
   "metadata": {
    "ExecuteTime": {
     "end_time": "2020-05-20T14:28:53.024874Z",
     "start_time": "2020-05-20T14:28:46.428721Z"
    }
   },
   "outputs": [
    {
     "name": "stdout",
     "output_type": "stream",
     "text": [
      "shape of train_ratings:  (79676, 4)\n",
      "shape of test_ratings:  (20550, 4)\n",
      "\n",
      " test set before processing: \n",
      "  \n",
      "     userId movieId  rating  timestamp\n",
      "192      1    2959     5.0  964983282\n",
      "176      1    2654     5.0  964983393\n",
      "\n",
      " test set after processing: \n",
      "  \n",
      "    userId           movie_title  rating\n",
      "0  User_1     Fight Club (1999)     5.0\n",
      "1  User_1  Wolf Man, The (1941)     5.0\n"
     ]
    }
   ],
   "source": [
    "#split data:\n",
    "train_ratings, test_ratings = train_test_split(rating_data, ratio = 0.2)\n",
    "print('shape of train_ratings: ', train_ratings.shape)\n",
    "print('shape of test_ratings: ', test_ratings.shape)\n",
    "\n",
    "# prepare test_set:\n",
    "print('\\n test set before processing: \\n  \\n', test_ratings.head(2))\n",
    "#call custom function:\n",
    "test_ratings = get_merged_ratings_df(test_ratings,movies_data)\n",
    "test_ratings['userId'] = test_ratings['userId'].apply(lambda row: 'User_' + str(row))\n",
    "print('\\n test set after processing: \\n  \\n', test_ratings.head(2))\n",
    "\n"
   ]
  },
  {
   "cell_type": "markdown",
   "metadata": {},
   "source": [
    "### create utility matrix"
   ]
  },
  {
   "cell_type": "markdown",
   "metadata": {},
   "source": [
    "Based on the training set, the utility matrix is created which contains the ratings for each user as a row entry. Columns indicate the different movie titles."
   ]
  },
  {
   "cell_type": "code",
   "execution_count": 5,
   "metadata": {
    "ExecuteTime": {
     "end_time": "2020-05-20T14:29:07.054711Z",
     "start_time": "2020-05-20T14:29:06.163279Z"
    }
   },
   "outputs": [
    {
     "name": "stdout",
     "output_type": "stream",
     "text": [
      "No. of duplicated entries:  0\n",
      "shape of utility matrix:  (610, 9737)\n"
     ]
    },
    {
     "data": {
      "text/html": [
       "<div>\n",
       "<style scoped>\n",
       "    .dataframe tbody tr th:only-of-type {\n",
       "        vertical-align: middle;\n",
       "    }\n",
       "\n",
       "    .dataframe tbody tr th {\n",
       "        vertical-align: top;\n",
       "    }\n",
       "\n",
       "    .dataframe thead th {\n",
       "        text-align: right;\n",
       "    }\n",
       "</style>\n",
       "<table border=\"1\" class=\"dataframe\">\n",
       "  <thead>\n",
       "    <tr style=\"text-align: right;\">\n",
       "      <th></th>\n",
       "      <th>Toy Story (1995)</th>\n",
       "      <th>Jumanji (1995)</th>\n",
       "      <th>Grumpier Old Men (1995)</th>\n",
       "      <th>Waiting to Exhale (1995)</th>\n",
       "      <th>Father of the Bride Part II (1995)</th>\n",
       "      <th>Heat (1995)</th>\n",
       "      <th>Sabrina (1995)</th>\n",
       "      <th>Tom and Huck (1995)</th>\n",
       "      <th>Sudden Death (1995)</th>\n",
       "      <th>GoldenEye (1995)</th>\n",
       "    </tr>\n",
       "  </thead>\n",
       "  <tbody>\n",
       "    <tr>\n",
       "      <th>User_1</th>\n",
       "      <td>4.0</td>\n",
       "      <td>NaN</td>\n",
       "      <td>4.0</td>\n",
       "      <td>NaN</td>\n",
       "      <td>NaN</td>\n",
       "      <td>4.0</td>\n",
       "      <td>NaN</td>\n",
       "      <td>NaN</td>\n",
       "      <td>NaN</td>\n",
       "      <td>NaN</td>\n",
       "    </tr>\n",
       "    <tr>\n",
       "      <th>User_2</th>\n",
       "      <td>NaN</td>\n",
       "      <td>NaN</td>\n",
       "      <td>NaN</td>\n",
       "      <td>NaN</td>\n",
       "      <td>NaN</td>\n",
       "      <td>NaN</td>\n",
       "      <td>NaN</td>\n",
       "      <td>NaN</td>\n",
       "      <td>NaN</td>\n",
       "      <td>NaN</td>\n",
       "    </tr>\n",
       "    <tr>\n",
       "      <th>User_3</th>\n",
       "      <td>NaN</td>\n",
       "      <td>NaN</td>\n",
       "      <td>NaN</td>\n",
       "      <td>NaN</td>\n",
       "      <td>NaN</td>\n",
       "      <td>NaN</td>\n",
       "      <td>NaN</td>\n",
       "      <td>NaN</td>\n",
       "      <td>NaN</td>\n",
       "      <td>NaN</td>\n",
       "    </tr>\n",
       "    <tr>\n",
       "      <th>User_4</th>\n",
       "      <td>NaN</td>\n",
       "      <td>NaN</td>\n",
       "      <td>NaN</td>\n",
       "      <td>NaN</td>\n",
       "      <td>NaN</td>\n",
       "      <td>NaN</td>\n",
       "      <td>NaN</td>\n",
       "      <td>NaN</td>\n",
       "      <td>NaN</td>\n",
       "      <td>NaN</td>\n",
       "    </tr>\n",
       "    <tr>\n",
       "      <th>User_5</th>\n",
       "      <td>4.0</td>\n",
       "      <td>NaN</td>\n",
       "      <td>NaN</td>\n",
       "      <td>NaN</td>\n",
       "      <td>NaN</td>\n",
       "      <td>NaN</td>\n",
       "      <td>NaN</td>\n",
       "      <td>NaN</td>\n",
       "      <td>NaN</td>\n",
       "      <td>NaN</td>\n",
       "    </tr>\n",
       "  </tbody>\n",
       "</table>\n",
       "</div>"
      ],
      "text/plain": [
       "        Toy Story (1995)  Jumanji (1995)  Grumpier Old Men (1995)  \\\n",
       "User_1               4.0             NaN                      4.0   \n",
       "User_2               NaN             NaN                      NaN   \n",
       "User_3               NaN             NaN                      NaN   \n",
       "User_4               NaN             NaN                      NaN   \n",
       "User_5               4.0             NaN                      NaN   \n",
       "\n",
       "        Waiting to Exhale (1995)  Father of the Bride Part II (1995)  \\\n",
       "User_1                       NaN                                 NaN   \n",
       "User_2                       NaN                                 NaN   \n",
       "User_3                       NaN                                 NaN   \n",
       "User_4                       NaN                                 NaN   \n",
       "User_5                       NaN                                 NaN   \n",
       "\n",
       "        Heat (1995)  Sabrina (1995)  Tom and Huck (1995)  Sudden Death (1995)  \\\n",
       "User_1          4.0             NaN                  NaN                  NaN   \n",
       "User_2          NaN             NaN                  NaN                  NaN   \n",
       "User_3          NaN             NaN                  NaN                  NaN   \n",
       "User_4          NaN             NaN                  NaN                  NaN   \n",
       "User_5          NaN             NaN                  NaN                  NaN   \n",
       "\n",
       "        GoldenEye (1995)  \n",
       "User_1               NaN  \n",
       "User_2               NaN  \n",
       "User_3               NaN  \n",
       "User_4               NaN  \n",
       "User_5               NaN  "
      ]
     },
     "execution_count": 5,
     "metadata": {},
     "output_type": "execute_result"
    }
   ],
   "source": [
    "#call custom function to create utility matrix\n",
    "train_utilmatrix = create_utility_matrix(ratings_df = train_ratings, movies_df = movies_data)\n",
    "print('shape of utility matrix: ', train_utilmatrix.shape)\n",
    "\n",
    "#get glimpse on utility matrix:\n",
    "train_utilmatrix.iloc[0:5,:10]"
   ]
  },
  {
   "cell_type": "markdown",
   "metadata": {},
   "source": [
    "### SVD application"
   ]
  },
  {
   "cell_type": "code",
   "execution_count": 6,
   "metadata": {
    "ExecuteTime": {
     "end_time": "2020-05-20T14:29:13.029020Z",
     "start_time": "2020-05-20T14:29:13.017344Z"
    }
   },
   "outputs": [],
   "source": [
    "def apply_svd(util_matrix_df, n_dim = 20):\n",
    "    \n",
    "    '''\n",
    "    function applies svd on given matrix and returns a low rank matrix approximation based on given number of dimensions\n",
    "    '''\n",
    "    \n",
    "    #store user indices & movie indices:\n",
    "    movies_idx = util_matrix_df.columns.values\n",
    "    user_idx = util_matrix_df.index.values\n",
    "    \n",
    "    #handle NaN values:\n",
    "    utilMatrix = util_matrix_df.values\n",
    "    # the nan or unavailable entries are masked\n",
    "    mask = np.isnan(utilMatrix)\n",
    "    #create masked array:\n",
    "    masked_arr = np.ma.masked_array(utilMatrix, mask)\n",
    "    #calculate mean without considering the NaN values:\n",
    "    movie_means = np.mean(masked_arr, axis=0)\n",
    "    \n",
    "    # replace NaN entries by average rating of each movie\n",
    "    utilMatrix = masked_arr.filled(movie_means)\n",
    "    \n",
    "    #Mean Normalization of data:\n",
    "    mean_matrix = np.tile(movie_means, (utilMatrix.shape[0],1))\n",
    "    #subtract mean ratings of utility matrix (zero has now a meaning! -> equals the average rating)\n",
    "    utilMatrix = utilMatrix - mean_matrix\n",
    "    \n",
    "    #get non-masked matrix:\n",
    "    utilMatrix = np.ma.getdata(utilMatrix)\n",
    "    \n",
    "    # Singular-value decomposition\n",
    "    U, sig, VT = svd(utilMatrix)\n",
    "    \n",
    "    #populate sig:\n",
    "    sig=np.diag(sig)\n",
    "        \n",
    "    #keep only \"n\" factors:\n",
    "    U=U[:,0:n_dim]\n",
    "    sig=sig[0:n_dim,0:n_dim]\n",
    "    VT=VT[0:n_dim,:]\n",
    "    \n",
    "    #get matrix squareroot:\n",
    "    sig= sqrtm(sig)\n",
    "\n",
    "    # reconstruct matrix\n",
    "    Usig = np.dot(U,sig)\n",
    "    sigV=np.dot(sig,VT)\n",
    "    lowMatrix = np.dot(Usig,sigV)\n",
    "       \n",
    "    #add mean ratings:\n",
    "    lowMatrix = lowMatrix + mean_matrix\n",
    "    #again get non-masked matrix\n",
    "    lowMatrix = np.ma.getdata(lowMatrix)\n",
    "    \n",
    "    return lowMatrix, U, sig, VT, movies_idx, user_idx\n",
    "\n"
   ]
  },
  {
   "cell_type": "code",
   "execution_count": 7,
   "metadata": {
    "ExecuteTime": {
     "end_time": "2020-05-20T14:29:13.904472Z",
     "start_time": "2020-05-20T14:29:13.893444Z"
    }
   },
   "outputs": [],
   "source": [
    "def find_kNNs_movies(movie_latent_feat, movie_title: str, movie_lookup: np.array, k = 5):\n",
    "    \n",
    "    '''function maps a movie_title with the latent_feature_matrix and \n",
    "        searches for k nearest neighbours within the laten_features_matrix '''\n",
    "    \n",
    "    #check for matched search term:\n",
    "    movie_indices = np.where(np.core.defchararray.find(movie_lookup.astype(str), movie_title)>=0)\n",
    "    \n",
    "    if len(movie_indices[0]) > 1:\n",
    "        print('There are multiple matches \\n Try another search term')\n",
    "        return None\n",
    "    \n",
    "    elif len(movie_indices[0]) == 0:\n",
    "        print('There are no matches for your search term')\n",
    "        return None\n",
    "    \n",
    "    else:\n",
    "        movie_idx = movie_indices[0][0]\n",
    "        \n",
    "    #transpose feature matrix to calculate distance matrix:\n",
    "    feat_matrix = movie_latent_feat.transpose()\n",
    "    #create vector to match:\n",
    "    movie_vector = feat_matrix[movie_idx]\n",
    "    movie_vector = movie_vector.reshape(1,len(movie_vector))\n",
    "    #delete vector of the feature matrix (this way the movie is not fitted in the KNN model):\n",
    "    feat_matrix = np.delete(feat_matrix, (movie_idx), axis=0)\n",
    "    \n",
    "    #create KNN model and fit data:\n",
    "    neigh = NearestNeighbors(k, metric = 'cosine')\n",
    "    neigh.fit(feat_matrix)\n",
    "    #get k nearest neighbours: \n",
    "    matches_indices = neigh.kneighbors(movie_vector, k, return_distance=False)\n",
    "    \n",
    "    #get corresponding movie titles:\n",
    "    matched_movie_titles = unique_movies[matches_indices] #creates 2d array\n",
    "    \n",
    "    return matched_movie_titles[0]\n",
    "    "
   ]
  },
  {
   "cell_type": "code",
   "execution_count": 8,
   "metadata": {
    "ExecuteTime": {
     "end_time": "2020-05-20T14:29:15.028969Z",
     "start_time": "2020-05-20T14:29:15.020539Z"
    }
   },
   "outputs": [],
   "source": [
    "def get_movie_matches(matched_movies_array_list):\n",
    "    \n",
    "    '''\n",
    "    given a list of movie arrays, the function finds the movies which occur in all movie arrays\n",
    "    '''\n",
    "        \n",
    "    for i in range(len(matched_movies_array_list)):\n",
    "        if i < 1:\n",
    "            matched_movies_init = matched_movies_array_list[i]\n",
    "        else:\n",
    "            matched_movies = np.append(matched_movies_init, matched_movies_array_list[i], axis=0)\n",
    "            matched_movies_init = matched_movies\n",
    "    \n",
    "    #threshold to filter the duplicated movies --> e.g. if there are 3 movie arrays -> the movie count as to be > 2 such that the movie is shared among all arrays\n",
    "    thresh = len(matched_movies_array_list) - 1 \n",
    "\n",
    "    #find duplicates & their count:\n",
    "    movies, count = np.unique(matched_movies, return_counts=True)\n",
    "    duplicates = movies[count > thresh]\n",
    "    \n",
    "    print('List of movies shared by all movie requests: \\n')\n",
    "    print(duplicates)\n",
    "    \n",
    "    return duplicates\n",
    "\n",
    "    "
   ]
  },
  {
   "cell_type": "markdown",
   "metadata": {},
   "source": [
    "#### apply SVD on dataset & evaluate results"
   ]
  },
  {
   "cell_type": "code",
   "execution_count": 9,
   "metadata": {
    "ExecuteTime": {
     "end_time": "2020-05-20T14:29:19.220214Z",
     "start_time": "2020-05-20T14:29:19.211113Z"
    }
   },
   "outputs": [],
   "source": [
    "def lookup_preds(row, util_matrix = None):\n",
    "    \n",
    "    '''function looks up values in util_matrix\n",
    "        if there is no match since the movie does not have entries in the util_matrix,\n",
    "        return the mean rating of the user's existing ratings\n",
    "    '''\n",
    "    \n",
    "    #slice correct user_id\n",
    "    df_row_slice = util_matrix[util_matrix.index == row['userId']]\n",
    "    \n",
    "    #slice value of column match:\n",
    "    try:\n",
    "        df_col_val = df_row_slice.at[row['userId'],row['movie_title']]\n",
    "    except:\n",
    "        df_col_val = df_row_slice.mean(axis=1)\n",
    "    \n",
    "    return df_col_val\n",
    "\n",
    "\n",
    "def rmse(df):\n",
    "    diff_sqt = (df['rating'] - df['preds'])**2\n",
    "    rmse = np.sqrt(diff_sqt.sum()/len(diff_sqt))\n",
    "    print('RMSE: ', rmse)\n",
    "    return rmse\n"
   ]
  },
  {
   "cell_type": "markdown",
   "metadata": {},
   "source": [
    "SVD is applied on the utility matrix: A low rank approximation of the utility matrix is obtained. In addition the latent features are returned."
   ]
  },
  {
   "cell_type": "code",
   "execution_count": 10,
   "metadata": {
    "ExecuteTime": {
     "end_time": "2020-05-20T14:29:25.220378Z",
     "start_time": "2020-05-20T14:29:21.141329Z"
    }
   },
   "outputs": [
    {
     "data": {
      "text/html": [
       "<div>\n",
       "<style scoped>\n",
       "    .dataframe tbody tr th:only-of-type {\n",
       "        vertical-align: middle;\n",
       "    }\n",
       "\n",
       "    .dataframe tbody tr th {\n",
       "        vertical-align: top;\n",
       "    }\n",
       "\n",
       "    .dataframe thead th {\n",
       "        text-align: right;\n",
       "    }\n",
       "</style>\n",
       "<table border=\"1\" class=\"dataframe\">\n",
       "  <thead>\n",
       "    <tr style=\"text-align: right;\">\n",
       "      <th></th>\n",
       "      <th>Toy Story (1995)</th>\n",
       "      <th>Jumanji (1995)</th>\n",
       "      <th>Grumpier Old Men (1995)</th>\n",
       "      <th>Waiting to Exhale (1995)</th>\n",
       "      <th>Father of the Bride Part II (1995)</th>\n",
       "    </tr>\n",
       "  </thead>\n",
       "  <tbody>\n",
       "    <tr>\n",
       "      <th>User_1</th>\n",
       "      <td>4.144042</td>\n",
       "      <td>3.617682</td>\n",
       "      <td>3.507549</td>\n",
       "      <td>2.133603</td>\n",
       "      <td>3.165202</td>\n",
       "    </tr>\n",
       "    <tr>\n",
       "      <th>User_2</th>\n",
       "      <td>3.888115</td>\n",
       "      <td>3.425046</td>\n",
       "      <td>3.255152</td>\n",
       "      <td>2.122729</td>\n",
       "      <td>3.024906</td>\n",
       "    </tr>\n",
       "    <tr>\n",
       "      <th>User_3</th>\n",
       "      <td>3.859009</td>\n",
       "      <td>3.384688</td>\n",
       "      <td>3.233519</td>\n",
       "      <td>2.125313</td>\n",
       "      <td>3.001892</td>\n",
       "    </tr>\n",
       "    <tr>\n",
       "      <th>User_4</th>\n",
       "      <td>3.719572</td>\n",
       "      <td>3.331433</td>\n",
       "      <td>3.295986</td>\n",
       "      <td>2.126353</td>\n",
       "      <td>3.087875</td>\n",
       "    </tr>\n",
       "    <tr>\n",
       "      <th>User_5</th>\n",
       "      <td>3.924441</td>\n",
       "      <td>3.425925</td>\n",
       "      <td>3.222067</td>\n",
       "      <td>2.116197</td>\n",
       "      <td>3.020090</td>\n",
       "    </tr>\n",
       "  </tbody>\n",
       "</table>\n",
       "</div>"
      ],
      "text/plain": [
       "        Toy Story (1995)  Jumanji (1995)  Grumpier Old Men (1995)  \\\n",
       "User_1          4.144042        3.617682                 3.507549   \n",
       "User_2          3.888115        3.425046                 3.255152   \n",
       "User_3          3.859009        3.384688                 3.233519   \n",
       "User_4          3.719572        3.331433                 3.295986   \n",
       "User_5          3.924441        3.425925                 3.222067   \n",
       "\n",
       "        Waiting to Exhale (1995)  Father of the Bride Part II (1995)  \n",
       "User_1                  2.133603                            3.165202  \n",
       "User_2                  2.122729                            3.024906  \n",
       "User_3                  2.125313                            3.001892  \n",
       "User_4                  2.126353                            3.087875  \n",
       "User_5                  2.116197                            3.020090  "
      ]
     },
     "execution_count": 10,
     "metadata": {},
     "output_type": "execute_result"
    }
   ],
   "source": [
    "#apply SVD on training set:\n",
    "train_matrix_approx, latent_U, _, latent_VT, movie_idx, users_idx = apply_svd(train_utilmatrix, n_dim = 20)\n",
    "\n",
    "#add index & column labels & get glimpse on matrix approximation:\n",
    "train_matrix_approx_df = pd.DataFrame(train_matrix_approx, index=users_idx, columns=movie_idx)\n",
    "train_matrix_approx_df.iloc[:5,:5]"
   ]
  },
  {
   "cell_type": "markdown",
   "metadata": {},
   "source": [
    "For the data in the test set the corresponding predictions are looked up in the fitted matrix. If no predictions are available for a given movie title in the fitted matrix, the average rating of an user is used as prediction"
   ]
  },
  {
   "cell_type": "code",
   "execution_count": 11,
   "metadata": {
    "ExecuteTime": {
     "end_time": "2020-05-20T14:29:54.885989Z",
     "start_time": "2020-05-20T14:29:47.570729Z"
    }
   },
   "outputs": [
    {
     "name": "stdout",
     "output_type": "stream",
     "text": [
      "\n",
      "    userId           movie_title  rating     preds\n",
      "0  User_1     Fight Club (1999)     5.0  4.071172\n",
      "1  User_1  Wolf Man, The (1941)     5.0  3.167932\n",
      "2  User_1        Dracula (1931)     4.0  3.235683 \n",
      "\n",
      "RMSE:  1.3649622078094938\n"
     ]
    }
   ],
   "source": [
    "# call function on each row to get predictions:\n",
    "test_ratings['preds'] = test_ratings.apply(lambda x: lookup_preds(x, train_matrix_approx_df), axis=1)\n",
    "\n",
    "print('\\n', test_ratings.head(3), '\\n')\n",
    "\n",
    "#get rmse:\n",
    "rmse_test = rmse(test_ratings)"
   ]
  },
  {
   "cell_type": "markdown",
   "metadata": {},
   "source": [
    "#### use latent features of movies to find similar movies"
   ]
  },
  {
   "cell_type": "markdown",
   "metadata": {},
   "source": [
    "For the movies 'Inception', 'Dark Knight Rises' & 'Hangover', find movies which are most similar. Based on the list of similar movies check which are shared by all three titles:"
   ]
  },
  {
   "cell_type": "code",
   "execution_count": 12,
   "metadata": {
    "ExecuteTime": {
     "end_time": "2020-05-20T14:30:11.787409Z",
     "start_time": "2020-05-20T14:30:11.725461Z"
    }
   },
   "outputs": [
    {
     "name": "stdout",
     "output_type": "stream",
     "text": [
      "List of movies shared by all movie requests: \n",
      "\n",
      "['Dark Knight, The (2008)' 'How To Change The World (2015)'\n",
      " 'Purge: Anarchy, The (2014)']\n"
     ]
    }
   ],
   "source": [
    "#get unique movie titles:\n",
    "unique_movies = np.array(train_matrix_approx_df.columns)\n",
    "\n",
    "#get the 30 most similar movies for each title:\n",
    "movies_matched = find_kNNs_movies(latent_VT, 'Inception (2010)', unique_movies, k=30)\n",
    "movies_matched2 = find_kNNs_movies(latent_VT, 'Dark Knight Rises, The (2012)', unique_movies, k=30)\n",
    "movies_matched3 = find_kNNs_movies(latent_VT, 'Hangover, The (2009)', unique_movies, k=30)\n",
    "\n",
    "li_matched_movies = [movies_matched,movies_matched2,movies_matched3]\n",
    "\n",
    "#get movies which are \"neighbours\" for all given titles:\n",
    "shared_movies_arr = get_movie_matches(li_matched_movies)"
   ]
  },
  {
   "cell_type": "code",
   "execution_count": 13,
   "metadata": {
    "ExecuteTime": {
     "end_time": "2020-05-20T14:30:15.109926Z",
     "start_time": "2020-05-20T14:30:15.104322Z"
    }
   },
   "outputs": [
    {
     "data": {
      "text/plain": [
       "array(['How To Change The World (2015)', 'Dark Knight, The (2008)',\n",
       "       'DeadHeads (2011)', 'Wave, The (Welle, Die) (2008)',\n",
       "       'Gifted (2017)'], dtype=object)"
      ]
     },
     "execution_count": 13,
     "metadata": {},
     "output_type": "execute_result"
    }
   ],
   "source": [
    "movies_matched[:5]"
   ]
  },
  {
   "cell_type": "code",
   "execution_count": null,
   "metadata": {},
   "outputs": [],
   "source": []
  }
 ],
 "metadata": {
  "kernelspec": {
   "display_name": "Python 3",
   "language": "python",
   "name": "python3"
  },
  "language_info": {
   "codemirror_mode": {
    "name": "ipython",
    "version": 3
   },
   "file_extension": ".py",
   "mimetype": "text/x-python",
   "name": "python",
   "nbconvert_exporter": "python",
   "pygments_lexer": "ipython3",
   "version": "3.6.8"
  },
  "toc": {
   "base_numbering": 1,
   "nav_menu": {},
   "number_sections": true,
   "sideBar": true,
   "skip_h1_title": false,
   "title_cell": "Table of Contents",
   "title_sidebar": "Contents",
   "toc_cell": false,
   "toc_position": {},
   "toc_section_display": true,
   "toc_window_display": false
  },
  "varInspector": {
   "cols": {
    "lenName": 16,
    "lenType": 16,
    "lenVar": 40
   },
   "kernels_config": {
    "python": {
     "delete_cmd_postfix": "",
     "delete_cmd_prefix": "del ",
     "library": "var_list.py",
     "varRefreshCmd": "print(var_dic_list())"
    },
    "r": {
     "delete_cmd_postfix": ") ",
     "delete_cmd_prefix": "rm(",
     "library": "var_list.r",
     "varRefreshCmd": "cat(var_dic_list()) "
    }
   },
   "types_to_exclude": [
    "module",
    "function",
    "builtin_function_or_method",
    "instance",
    "_Feature"
   ],
   "window_display": false
  }
 },
 "nbformat": 4,
 "nbformat_minor": 2
}
